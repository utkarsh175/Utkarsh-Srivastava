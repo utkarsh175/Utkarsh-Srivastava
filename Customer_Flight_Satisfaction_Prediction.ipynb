{
 "cells": [
  {
   "cell_type": "markdown",
   "metadata": {},
   "source": [
    "# Context and Defining Problem Statement\n",
    "\n",
    "The data we have at hand is of passengers and their feedback regarding their flight experience. \n",
    "\n",
    "Each row is one passenger. Apart from the  feedback from the customers accross various attributes(15 in total) like food, online_support, cleanliness etc, we have data about the customers' age, loyalty to the airline, gender and class.\n",
    "\n",
    "The target column is a binary variable which tells us if the customer is satisfied or neutral/dissatisfied\n",
    "\n",
    "The task at hand is to analyze reasons for customers' satisfaction or dissatisfaction.\n",
    "\n",
    "And finally, we build a model to predict customer satisfaction using all or some of the data we have"
   ]
  },
  {
   "cell_type": "markdown",
   "metadata": {},
   "source": [
    "# Steps - \n",
    "1. Data loading and preprocessing\n",
    "2. Exploratory Data Analysis\n",
    "3. Model building and evaluation\n",
    "4. Model Tuning\n",
    "5. Dimensionality Reduction"
   ]
  },
  {
   "cell_type": "markdown",
   "metadata": {},
   "source": [
    "# Data loading and preprocessing"
   ]
  },
  {
   "cell_type": "markdown",
   "metadata": {},
   "source": [
    "### 1. Import Pandas, Numpy, pyplot and seaborn"
   ]
  },
  {
   "cell_type": "code",
   "execution_count": 1,
   "metadata": {},
   "outputs": [],
   "source": [
    "#Import necessary libraries\n",
    "%matplotlib inline\n",
    "import numpy as np\n",
    "import pandas as pd\n",
    "import matplotlib.pyplot as plt\n",
    "import seaborn as sns\n",
    "import warnings\n",
    "warnings.filterwarnings(\"ignore\")  # Not always recommended, but jsut so our notebook looks clean for this activity"
   ]
  },
  {
   "cell_type": "markdown",
   "metadata": {},
   "source": [
    "### 2. Import the dataframes that are needed\n",
    "- Import \"Flight data_Train.csv\" and \"Surveydata_Train.csv\""
   ]
  },
  {
   "cell_type": "code",
   "execution_count": 2,
   "metadata": {},
   "outputs": [],
   "source": [
    "df1 = pd.read_csv(\"Flight data_Train.csv\")  # Read the data regarding customer attributes\n",
    "df2 = pd.read_csv(\"Surveydata_Train.csv\")   # Feedback data from customers"
   ]
  },
  {
   "cell_type": "markdown",
   "metadata": {},
   "source": [
    "### 3. Join the two dataframes using the 'id' column as the primary key\n",
    "- Rename the Id column of one dataframe so that there \"id\" column name becomes same"
   ]
  },
  {
   "cell_type": "code",
   "execution_count": 3,
   "metadata": {},
   "outputs": [
    {
     "name": "stdout",
     "output_type": "stream",
     "text": [
      "(90917, 23)\n"
     ]
    },
    {
     "data": {
      "text/html": [
       "<div>\n",
       "<style scoped>\n",
       "    .dataframe tbody tr th:only-of-type {\n",
       "        vertical-align: middle;\n",
       "    }\n",
       "\n",
       "    .dataframe tbody tr th {\n",
       "        vertical-align: top;\n",
       "    }\n",
       "\n",
       "    .dataframe thead th {\n",
       "        text-align: right;\n",
       "    }\n",
       "</style>\n",
       "<table border=\"1\" class=\"dataframe\">\n",
       "  <thead>\n",
       "    <tr style=\"text-align: right;\">\n",
       "      <th></th>\n",
       "      <th>Satisfaction</th>\n",
       "      <th>Seat_comfort</th>\n",
       "      <th>Departure.Arrival.time_convenient</th>\n",
       "      <th>Food_drink</th>\n",
       "      <th>Gate_location</th>\n",
       "      <th>Inflightwifi_service</th>\n",
       "      <th>Inflight_entertainment</th>\n",
       "      <th>Online_support</th>\n",
       "      <th>Ease_of_Onlinebooking</th>\n",
       "      <th>Onboard_service</th>\n",
       "      <th>...</th>\n",
       "      <th>Cleanliness</th>\n",
       "      <th>Online_boarding</th>\n",
       "      <th>Gender</th>\n",
       "      <th>CustomerType</th>\n",
       "      <th>Age</th>\n",
       "      <th>TypeTravel</th>\n",
       "      <th>Class</th>\n",
       "      <th>Flight_Distance</th>\n",
       "      <th>DepartureDelayin_Mins</th>\n",
       "      <th>ArrivalDelayin_Mins</th>\n",
       "    </tr>\n",
       "    <tr>\n",
       "      <th>Id</th>\n",
       "      <th></th>\n",
       "      <th></th>\n",
       "      <th></th>\n",
       "      <th></th>\n",
       "      <th></th>\n",
       "      <th></th>\n",
       "      <th></th>\n",
       "      <th></th>\n",
       "      <th></th>\n",
       "      <th></th>\n",
       "      <th></th>\n",
       "      <th></th>\n",
       "      <th></th>\n",
       "      <th></th>\n",
       "      <th></th>\n",
       "      <th></th>\n",
       "      <th></th>\n",
       "      <th></th>\n",
       "      <th></th>\n",
       "      <th></th>\n",
       "      <th></th>\n",
       "    </tr>\n",
       "  </thead>\n",
       "  <tbody>\n",
       "    <tr>\n",
       "      <th>198671</th>\n",
       "      <td>neutral or dissatisfied</td>\n",
       "      <td>poor</td>\n",
       "      <td>acceptable</td>\n",
       "      <td>acceptable</td>\n",
       "      <td>manageable</td>\n",
       "      <td>poor</td>\n",
       "      <td>need improvement</td>\n",
       "      <td>poor</td>\n",
       "      <td>poor</td>\n",
       "      <td>acceptable</td>\n",
       "      <td>...</td>\n",
       "      <td>need improvement</td>\n",
       "      <td>poor</td>\n",
       "      <td>Male</td>\n",
       "      <td>Loyal Customer</td>\n",
       "      <td>30</td>\n",
       "      <td>Business travel</td>\n",
       "      <td>Business</td>\n",
       "      <td>1354</td>\n",
       "      <td>11</td>\n",
       "      <td>8.0</td>\n",
       "    </tr>\n",
       "    <tr>\n",
       "      <th>193378</th>\n",
       "      <td>satisfied</td>\n",
       "      <td>excellent</td>\n",
       "      <td>need improvement</td>\n",
       "      <td>excellent</td>\n",
       "      <td>Convinient</td>\n",
       "      <td>acceptable</td>\n",
       "      <td>excellent</td>\n",
       "      <td>acceptable</td>\n",
       "      <td>acceptable</td>\n",
       "      <td>good</td>\n",
       "      <td>...</td>\n",
       "      <td>excellent</td>\n",
       "      <td>acceptable</td>\n",
       "      <td>Female</td>\n",
       "      <td>disloyal Customer</td>\n",
       "      <td>20</td>\n",
       "      <td>NaN</td>\n",
       "      <td>Business</td>\n",
       "      <td>1439</td>\n",
       "      <td>6</td>\n",
       "      <td>0.0</td>\n",
       "    </tr>\n",
       "    <tr>\n",
       "      <th>174522</th>\n",
       "      <td>satisfied</td>\n",
       "      <td>good</td>\n",
       "      <td>good</td>\n",
       "      <td>good</td>\n",
       "      <td>manageable</td>\n",
       "      <td>acceptable</td>\n",
       "      <td>excellent</td>\n",
       "      <td>excellent</td>\n",
       "      <td>need improvement</td>\n",
       "      <td>need improvement</td>\n",
       "      <td>...</td>\n",
       "      <td>need improvement</td>\n",
       "      <td>excellent</td>\n",
       "      <td>Female</td>\n",
       "      <td>NaN</td>\n",
       "      <td>55</td>\n",
       "      <td>Personal Travel</td>\n",
       "      <td>Eco Plus</td>\n",
       "      <td>976</td>\n",
       "      <td>4</td>\n",
       "      <td>0.0</td>\n",
       "    </tr>\n",
       "    <tr>\n",
       "      <th>191830</th>\n",
       "      <td>satisfied</td>\n",
       "      <td>good</td>\n",
       "      <td>good</td>\n",
       "      <td>good</td>\n",
       "      <td>manageable</td>\n",
       "      <td>poor</td>\n",
       "      <td>good</td>\n",
       "      <td>poor</td>\n",
       "      <td>poor</td>\n",
       "      <td>poor</td>\n",
       "      <td>...</td>\n",
       "      <td>acceptable</td>\n",
       "      <td>poor</td>\n",
       "      <td>Male</td>\n",
       "      <td>disloyal Customer</td>\n",
       "      <td>24</td>\n",
       "      <td>Business travel</td>\n",
       "      <td>Eco</td>\n",
       "      <td>2291</td>\n",
       "      <td>0</td>\n",
       "      <td>0.0</td>\n",
       "    </tr>\n",
       "    <tr>\n",
       "      <th>221497</th>\n",
       "      <td>satisfied</td>\n",
       "      <td>good</td>\n",
       "      <td>good</td>\n",
       "      <td>NaN</td>\n",
       "      <td>Convinient</td>\n",
       "      <td>good</td>\n",
       "      <td>good</td>\n",
       "      <td>good</td>\n",
       "      <td>good</td>\n",
       "      <td>good</td>\n",
       "      <td>...</td>\n",
       "      <td>good</td>\n",
       "      <td>good</td>\n",
       "      <td>Male</td>\n",
       "      <td>Loyal Customer</td>\n",
       "      <td>32</td>\n",
       "      <td>Business travel</td>\n",
       "      <td>Business</td>\n",
       "      <td>3974</td>\n",
       "      <td>0</td>\n",
       "      <td>0.0</td>\n",
       "    </tr>\n",
       "  </tbody>\n",
       "</table>\n",
       "<p>5 rows × 23 columns</p>\n",
       "</div>"
      ],
      "text/plain": [
       "                   Satisfaction Seat_comfort  \\\n",
       "Id                                             \n",
       "198671  neutral or dissatisfied         poor   \n",
       "193378                satisfied    excellent   \n",
       "174522                satisfied         good   \n",
       "191830                satisfied         good   \n",
       "221497                satisfied         good   \n",
       "\n",
       "       Departure.Arrival.time_convenient  Food_drink Gate_location  \\\n",
       "Id                                                                   \n",
       "198671                        acceptable  acceptable    manageable   \n",
       "193378                  need improvement   excellent    Convinient   \n",
       "174522                              good        good    manageable   \n",
       "191830                              good        good    manageable   \n",
       "221497                              good         NaN    Convinient   \n",
       "\n",
       "       Inflightwifi_service Inflight_entertainment Online_support  \\\n",
       "Id                                                                  \n",
       "198671                 poor       need improvement           poor   \n",
       "193378           acceptable              excellent     acceptable   \n",
       "174522           acceptable              excellent      excellent   \n",
       "191830                 poor                   good           poor   \n",
       "221497                 good                   good           good   \n",
       "\n",
       "       Ease_of_Onlinebooking   Onboard_service  ...       Cleanliness  \\\n",
       "Id                                              ...                     \n",
       "198671                  poor        acceptable  ...  need improvement   \n",
       "193378            acceptable              good  ...         excellent   \n",
       "174522      need improvement  need improvement  ...  need improvement   \n",
       "191830                  poor              poor  ...        acceptable   \n",
       "221497                  good              good  ...              good   \n",
       "\n",
       "       Online_boarding  Gender       CustomerType Age       TypeTravel  \\\n",
       "Id                                                                       \n",
       "198671            poor    Male     Loyal Customer  30  Business travel   \n",
       "193378      acceptable  Female  disloyal Customer  20              NaN   \n",
       "174522       excellent  Female                NaN  55  Personal Travel   \n",
       "191830            poor    Male  disloyal Customer  24  Business travel   \n",
       "221497            good    Male     Loyal Customer  32  Business travel   \n",
       "\n",
       "           Class  Flight_Distance DepartureDelayin_Mins ArrivalDelayin_Mins  \n",
       "Id                                                                           \n",
       "198671  Business             1354                    11                 8.0  \n",
       "193378  Business             1439                     6                 0.0  \n",
       "174522  Eco Plus              976                     4                 0.0  \n",
       "191830       Eco             2291                     0                 0.0  \n",
       "221497  Business             3974                     0                 0.0  \n",
       "\n",
       "[5 rows x 23 columns]"
      ]
     },
     "execution_count": 3,
     "metadata": {},
     "output_type": "execute_result"
    }
   ],
   "source": [
    "#Using pandas' Join method\n",
    "#c = a.join(b)  # Joining two dfs on the 'Id' column\n",
    "\n",
    "df = df2.set_index(\"Id\").join(df1.set_index(\"ID\"))\n",
    "\n",
    "\n",
    "print(df.shape)\n",
    "df.head()  # the combined dataframe"
   ]
  },
  {
   "cell_type": "raw",
   "metadata": {},
   "source": [
    "# Using pandas' concat method\n",
    "# Because the Id columns are not in the same order in the two dataframes, first we sort them and then concat\n",
    "\n",
    "a = df1.sort_values(by = 'ID')   \n",
    "b = df2.sort_values(by = 'Id')\n",
    "\n",
    "b.reset_index(drop = True, inplace = True)    # reset the index so that it doesn't cause a problem while concatenating\n",
    "\n",
    "# Now that we are confident that both dataframes are in the same order, drop the Id column in the second dataframe\n",
    "b.drop(columns = 'Id', inplace = True)         \n",
    "\n",
    "c = pd.concat([a,b], axis = 1)   # Concat!!!\n",
    "\n",
    "print(c.shape)\n",
    "c.head()"
   ]
  },
  {
   "cell_type": "raw",
   "metadata": {},
   "source": [
    "# using pd.merge\n",
    "\n",
    "a = df1.copy(deep = True)\n",
    "b = df2.copy(deep = True)\n",
    "\n",
    "c = a.merge(b, left_on='ID', right_on='Id').drop(columns = 'Id')\n",
    "\n",
    "print(c.shape)\n",
    "c.head()"
   ]
  },
  {
   "cell_type": "markdown",
   "metadata": {},
   "source": [
    "### 4. Print the number of missing values in each of the columns"
   ]
  },
  {
   "cell_type": "code",
   "execution_count": 4,
   "metadata": {},
   "outputs": [
    {
     "data": {
      "text/html": [
       "<div>\n",
       "<style scoped>\n",
       "    .dataframe tbody tr th:only-of-type {\n",
       "        vertical-align: middle;\n",
       "    }\n",
       "\n",
       "    .dataframe tbody tr th {\n",
       "        vertical-align: top;\n",
       "    }\n",
       "\n",
       "    .dataframe thead th {\n",
       "        text-align: right;\n",
       "    }\n",
       "</style>\n",
       "<table border=\"1\" class=\"dataframe\">\n",
       "  <thead>\n",
       "    <tr style=\"text-align: right;\">\n",
       "      <th></th>\n",
       "      <th>Satisfaction</th>\n",
       "      <th>Seat_comfort</th>\n",
       "      <th>Departure.Arrival.time_convenient</th>\n",
       "      <th>Food_drink</th>\n",
       "      <th>Gate_location</th>\n",
       "      <th>Inflightwifi_service</th>\n",
       "      <th>Inflight_entertainment</th>\n",
       "      <th>Online_support</th>\n",
       "      <th>Ease_of_Onlinebooking</th>\n",
       "      <th>Onboard_service</th>\n",
       "      <th>...</th>\n",
       "      <th>Cleanliness</th>\n",
       "      <th>Online_boarding</th>\n",
       "      <th>Gender</th>\n",
       "      <th>CustomerType</th>\n",
       "      <th>Age</th>\n",
       "      <th>TypeTravel</th>\n",
       "      <th>Class</th>\n",
       "      <th>Flight_Distance</th>\n",
       "      <th>DepartureDelayin_Mins</th>\n",
       "      <th>ArrivalDelayin_Mins</th>\n",
       "    </tr>\n",
       "  </thead>\n",
       "  <tbody>\n",
       "    <tr>\n",
       "      <th>False</th>\n",
       "      <td>90917.0</td>\n",
       "      <td>90917.0</td>\n",
       "      <td>82673</td>\n",
       "      <td>82736</td>\n",
       "      <td>90917.0</td>\n",
       "      <td>90917.0</td>\n",
       "      <td>90917.0</td>\n",
       "      <td>90917.0</td>\n",
       "      <td>90917.0</td>\n",
       "      <td>83738</td>\n",
       "      <td>...</td>\n",
       "      <td>90917.0</td>\n",
       "      <td>90917.0</td>\n",
       "      <td>90917.0</td>\n",
       "      <td>81818</td>\n",
       "      <td>90917.0</td>\n",
       "      <td>81829</td>\n",
       "      <td>90917.0</td>\n",
       "      <td>90917.0</td>\n",
       "      <td>90917.0</td>\n",
       "      <td>90633</td>\n",
       "    </tr>\n",
       "    <tr>\n",
       "      <th>True</th>\n",
       "      <td>NaN</td>\n",
       "      <td>NaN</td>\n",
       "      <td>8244</td>\n",
       "      <td>8181</td>\n",
       "      <td>NaN</td>\n",
       "      <td>NaN</td>\n",
       "      <td>NaN</td>\n",
       "      <td>NaN</td>\n",
       "      <td>NaN</td>\n",
       "      <td>7179</td>\n",
       "      <td>...</td>\n",
       "      <td>NaN</td>\n",
       "      <td>NaN</td>\n",
       "      <td>NaN</td>\n",
       "      <td>9099</td>\n",
       "      <td>NaN</td>\n",
       "      <td>9088</td>\n",
       "      <td>NaN</td>\n",
       "      <td>NaN</td>\n",
       "      <td>NaN</td>\n",
       "      <td>284</td>\n",
       "    </tr>\n",
       "  </tbody>\n",
       "</table>\n",
       "<p>2 rows × 23 columns</p>\n",
       "</div>"
      ],
      "text/plain": [
       "       Satisfaction  Seat_comfort  Departure.Arrival.time_convenient  \\\n",
       "False       90917.0       90917.0                              82673   \n",
       "True            NaN           NaN                               8244   \n",
       "\n",
       "       Food_drink  Gate_location  Inflightwifi_service  \\\n",
       "False       82736        90917.0               90917.0   \n",
       "True         8181            NaN                   NaN   \n",
       "\n",
       "       Inflight_entertainment  Online_support  Ease_of_Onlinebooking  \\\n",
       "False                 90917.0         90917.0                90917.0   \n",
       "True                      NaN             NaN                    NaN   \n",
       "\n",
       "       Onboard_service  ...  Cleanliness  Online_boarding   Gender  \\\n",
       "False            83738  ...      90917.0          90917.0  90917.0   \n",
       "True              7179  ...          NaN              NaN      NaN   \n",
       "\n",
       "       CustomerType      Age  TypeTravel    Class  Flight_Distance  \\\n",
       "False         81818  90917.0       81829  90917.0          90917.0   \n",
       "True           9099      NaN        9088      NaN              NaN   \n",
       "\n",
       "       DepartureDelayin_Mins  ArrivalDelayin_Mins  \n",
       "False                90917.0                90633  \n",
       "True                     NaN                  284  \n",
       "\n",
       "[2 rows x 23 columns]"
      ]
     },
     "execution_count": 4,
     "metadata": {},
     "output_type": "execute_result"
    }
   ],
   "source": [
    "df.isna().apply(pd.value_counts)    # isna() gives a boolean dataframe, value counts give us number of trues and falses"
   ]
  },
  {
   "cell_type": "code",
   "execution_count": 5,
   "metadata": {},
   "outputs": [
    {
     "data": {
      "text/plain": [
       "Satisfaction                            0\n",
       "Seat_comfort                            0\n",
       "Departure.Arrival.time_convenient    8244\n",
       "Food_drink                           8181\n",
       "Gate_location                           0\n",
       "Inflightwifi_service                    0\n",
       "Inflight_entertainment                  0\n",
       "Online_support                          0\n",
       "Ease_of_Onlinebooking                   0\n",
       "Onboard_service                      7179\n",
       "Leg_room_service                        0\n",
       "Baggage_handling                        0\n",
       "Checkin_service                         0\n",
       "Cleanliness                             0\n",
       "Online_boarding                         0\n",
       "Gender                                  0\n",
       "CustomerType                         9099\n",
       "Age                                     0\n",
       "TypeTravel                           9088\n",
       "Class                                   0\n",
       "Flight_Distance                         0\n",
       "DepartureDelayin_Mins                   0\n",
       "ArrivalDelayin_Mins                   284\n",
       "dtype: int64"
      ]
     },
     "execution_count": 5,
     "metadata": {},
     "output_type": "execute_result"
    }
   ],
   "source": [
    "df.isna().sum() # Since True is 1 and False is 0, if you do a sum of a boolean dataframe, we get the number of trues in each col"
   ]
  },
  {
   "cell_type": "code",
   "execution_count": 7,
   "metadata": {},
   "outputs": [
    {
     "data": {
      "text/html": [
       "<div>\n",
       "<style scoped>\n",
       "    .dataframe tbody tr th:only-of-type {\n",
       "        vertical-align: middle;\n",
       "    }\n",
       "\n",
       "    .dataframe tbody tr th {\n",
       "        vertical-align: top;\n",
       "    }\n",
       "\n",
       "    .dataframe thead th {\n",
       "        text-align: right;\n",
       "    }\n",
       "</style>\n",
       "<table border=\"1\" class=\"dataframe\">\n",
       "  <thead>\n",
       "    <tr style=\"text-align: right;\">\n",
       "      <th></th>\n",
       "      <th>Satisfaction</th>\n",
       "      <th>Seat_comfort</th>\n",
       "      <th>Departure.Arrival.time_convenient</th>\n",
       "      <th>Food_drink</th>\n",
       "      <th>Gate_location</th>\n",
       "      <th>Inflightwifi_service</th>\n",
       "      <th>Inflight_entertainment</th>\n",
       "      <th>Online_support</th>\n",
       "      <th>Ease_of_Onlinebooking</th>\n",
       "      <th>Onboard_service</th>\n",
       "      <th>...</th>\n",
       "      <th>Cleanliness</th>\n",
       "      <th>Online_boarding</th>\n",
       "      <th>Gender</th>\n",
       "      <th>CustomerType</th>\n",
       "      <th>Age</th>\n",
       "      <th>TypeTravel</th>\n",
       "      <th>Class</th>\n",
       "      <th>Flight_Distance</th>\n",
       "      <th>DepartureDelayin_Mins</th>\n",
       "      <th>ArrivalDelayin_Mins</th>\n",
       "    </tr>\n",
       "  </thead>\n",
       "  <tbody>\n",
       "    <tr>\n",
       "      <th>False</th>\n",
       "      <td>90917.0</td>\n",
       "      <td>90917.0</td>\n",
       "      <td>82673</td>\n",
       "      <td>82736</td>\n",
       "      <td>90917.0</td>\n",
       "      <td>90917.0</td>\n",
       "      <td>90917.0</td>\n",
       "      <td>90917.0</td>\n",
       "      <td>90917.0</td>\n",
       "      <td>83738</td>\n",
       "      <td>...</td>\n",
       "      <td>90917.0</td>\n",
       "      <td>90917.0</td>\n",
       "      <td>90917.0</td>\n",
       "      <td>81818</td>\n",
       "      <td>90917.0</td>\n",
       "      <td>81829</td>\n",
       "      <td>90917.0</td>\n",
       "      <td>90917.0</td>\n",
       "      <td>90917.0</td>\n",
       "      <td>90633</td>\n",
       "    </tr>\n",
       "    <tr>\n",
       "      <th>True</th>\n",
       "      <td>NaN</td>\n",
       "      <td>NaN</td>\n",
       "      <td>8244</td>\n",
       "      <td>8181</td>\n",
       "      <td>NaN</td>\n",
       "      <td>NaN</td>\n",
       "      <td>NaN</td>\n",
       "      <td>NaN</td>\n",
       "      <td>NaN</td>\n",
       "      <td>7179</td>\n",
       "      <td>...</td>\n",
       "      <td>NaN</td>\n",
       "      <td>NaN</td>\n",
       "      <td>NaN</td>\n",
       "      <td>9099</td>\n",
       "      <td>NaN</td>\n",
       "      <td>9088</td>\n",
       "      <td>NaN</td>\n",
       "      <td>NaN</td>\n",
       "      <td>NaN</td>\n",
       "      <td>284</td>\n",
       "    </tr>\n",
       "  </tbody>\n",
       "</table>\n",
       "<p>2 rows × 23 columns</p>\n",
       "</div>"
      ],
      "text/plain": [
       "       Satisfaction  Seat_comfort  Departure.Arrival.time_convenient  \\\n",
       "False       90917.0       90917.0                              82673   \n",
       "True            NaN           NaN                               8244   \n",
       "\n",
       "       Food_drink  Gate_location  Inflightwifi_service  \\\n",
       "False       82736        90917.0               90917.0   \n",
       "True         8181            NaN                   NaN   \n",
       "\n",
       "       Inflight_entertainment  Online_support  Ease_of_Onlinebooking  \\\n",
       "False                 90917.0         90917.0                90917.0   \n",
       "True                      NaN             NaN                    NaN   \n",
       "\n",
       "       Onboard_service  ...  Cleanliness  Online_boarding   Gender  \\\n",
       "False            83738  ...      90917.0          90917.0  90917.0   \n",
       "True              7179  ...          NaN              NaN      NaN   \n",
       "\n",
       "       CustomerType      Age  TypeTravel    Class  Flight_Distance  \\\n",
       "False         81818  90917.0       81829  90917.0          90917.0   \n",
       "True           9099      NaN        9088      NaN              NaN   \n",
       "\n",
       "       DepartureDelayin_Mins  ArrivalDelayin_Mins  \n",
       "False                90917.0                90633  \n",
       "True                     NaN                  284  \n",
       "\n",
       "[2 rows x 23 columns]"
      ]
     },
     "execution_count": 7,
     "metadata": {},
     "output_type": "execute_result"
    }
   ],
   "source": [
    "df.isnull().apply(pd.value_counts)  # isna() and isnull() are exactly the same "
   ]
  },
  {
   "cell_type": "markdown",
   "metadata": {},
   "source": [
    "### 5. Drop all the rows having atleast one missing values and check the shape of the dataframe before and after dropping the rows\n",
    "- Fill null values in ArrivalDelayin_Mins with mean\n",
    "- After that drop all the rows with null values"
   ]
  },
  {
   "cell_type": "code",
   "execution_count": 8,
   "metadata": {},
   "outputs": [],
   "source": [
    "# Since there are very less null values in the 'ArrivalDelayin_Mins' column, lets impute with mean\n",
    "\n",
    "df.ArrivalDelayin_Mins.fillna(df.ArrivalDelayin_Mins.mean(), inplace = True)"
   ]
  },
  {
   "cell_type": "raw",
   "metadata": {},
   "source": [
    "# Alternate way - 1\n",
    "\n",
    "df.ArrivalDelayin_Mins.replace({np.nan  : df.ArrivalDelayin_Mins.mean()}, inplace = True)"
   ]
  },
  {
   "cell_type": "raw",
   "metadata": {},
   "source": [
    "# Alternate way - 2\n",
    "\n",
    "from sklearn.impute import SimpleImputer\n",
    "\n",
    "imputer = SimpleImputer(missing_values = np.nan, strategy = 'mean') \n",
    "\n",
    "df['ArrivalDelayin_Mins'] = imputer.fit_transform(df['ArrivalDelayin_Mins'].values.reshape(-1,1))\n",
    "\n",
    "# the imputer algorithm takes n-dimensional array and since it was throwing an error asking to reshape. Hence the reshape\n"
   ]
  },
  {
   "cell_type": "code",
   "execution_count": 9,
   "metadata": {},
   "outputs": [
    {
     "data": {
      "text/plain": [
       "0"
      ]
     },
     "execution_count": 9,
     "metadata": {},
     "output_type": "execute_result"
    }
   ],
   "source": [
    "df.ArrivalDelayin_Mins.isna().sum()"
   ]
  },
  {
   "cell_type": "code",
   "execution_count": 10,
   "metadata": {},
   "outputs": [],
   "source": [
    "# Rest other missing values are filled with not_captured.\n",
    "#It can be done in other way also or also can be dropped according to the problem and business context.\n",
    "df.fillna(\"not_captured\", inplace = True) \n"
   ]
  },
  {
   "cell_type": "code",
   "execution_count": 11,
   "metadata": {},
   "outputs": [
    {
     "name": "stdout",
     "output_type": "stream",
     "text": [
      "(90917, 23)\n"
     ]
    }
   ],
   "source": [
    "print(df.shape)"
   ]
  },
  {
   "cell_type": "markdown",
   "metadata": {},
   "source": [
    "# Exploratory Data Analysis"
   ]
  },
  {
   "cell_type": "markdown",
   "metadata": {},
   "source": [
    "### 6. Print correlation"
   ]
  },
  {
   "cell_type": "code",
   "execution_count": 12,
   "metadata": {},
   "outputs": [],
   "source": [
    "cor = df.corr() # It will show correlation of only numerical variables here."
   ]
  },
  {
   "cell_type": "code",
   "execution_count": 13,
   "metadata": {},
   "outputs": [
    {
     "data": {
      "text/html": [
       "<div>\n",
       "<style scoped>\n",
       "    .dataframe tbody tr th:only-of-type {\n",
       "        vertical-align: middle;\n",
       "    }\n",
       "\n",
       "    .dataframe tbody tr th {\n",
       "        vertical-align: top;\n",
       "    }\n",
       "\n",
       "    .dataframe thead th {\n",
       "        text-align: right;\n",
       "    }\n",
       "</style>\n",
       "<table border=\"1\" class=\"dataframe\">\n",
       "  <thead>\n",
       "    <tr style=\"text-align: right;\">\n",
       "      <th></th>\n",
       "      <th>Age</th>\n",
       "      <th>Flight_Distance</th>\n",
       "      <th>DepartureDelayin_Mins</th>\n",
       "      <th>ArrivalDelayin_Mins</th>\n",
       "    </tr>\n",
       "  </thead>\n",
       "  <tbody>\n",
       "    <tr>\n",
       "      <th>Age</th>\n",
       "      <td>1.0</td>\n",
       "      <td>NaN</td>\n",
       "      <td>NaN</td>\n",
       "      <td>NaN</td>\n",
       "    </tr>\n",
       "    <tr>\n",
       "      <th>Flight_Distance</th>\n",
       "      <td>NaN</td>\n",
       "      <td>1.0</td>\n",
       "      <td>NaN</td>\n",
       "      <td>NaN</td>\n",
       "    </tr>\n",
       "    <tr>\n",
       "      <th>DepartureDelayin_Mins</th>\n",
       "      <td>NaN</td>\n",
       "      <td>NaN</td>\n",
       "      <td>1.00000</td>\n",
       "      <td>0.96112</td>\n",
       "    </tr>\n",
       "    <tr>\n",
       "      <th>ArrivalDelayin_Mins</th>\n",
       "      <td>NaN</td>\n",
       "      <td>NaN</td>\n",
       "      <td>0.96112</td>\n",
       "      <td>1.00000</td>\n",
       "    </tr>\n",
       "  </tbody>\n",
       "</table>\n",
       "</div>"
      ],
      "text/plain": [
       "                       Age  Flight_Distance  DepartureDelayin_Mins  \\\n",
       "Age                    1.0              NaN                    NaN   \n",
       "Flight_Distance        NaN              1.0                    NaN   \n",
       "DepartureDelayin_Mins  NaN              NaN                1.00000   \n",
       "ArrivalDelayin_Mins    NaN              NaN                0.96112   \n",
       "\n",
       "                       ArrivalDelayin_Mins  \n",
       "Age                                    NaN  \n",
       "Flight_Distance                        NaN  \n",
       "DepartureDelayin_Mins              0.96112  \n",
       "ArrivalDelayin_Mins                1.00000  "
      ]
     },
     "execution_count": 13,
     "metadata": {},
     "output_type": "execute_result"
    }
   ],
   "source": [
    "cor[cor > .90]"
   ]
  },
  {
   "cell_type": "code",
   "execution_count": 14,
   "metadata": {},
   "outputs": [],
   "source": [
    "to_drop = ['DepartureDelayin_Mins']"
   ]
  },
  {
   "cell_type": "markdown",
   "metadata": {},
   "source": [
    "- There is just one obvious correlation that we can see that is between arrival delay and departure delay"
   ]
  },
  {
   "cell_type": "markdown",
   "metadata": {},
   "source": [
    "### Feedback columns\n",
    "Seat_comfort', 'Departure.Arrival.time_convenient', 'Food_drink', 'Gate_location',\n",
    "'Inflightwifi_service', 'Inflight_entertainment', 'Online_support',\n",
    "'Ease_of_Onlinebooking', 'Onboard_service', 'Leg_room_service',\n",
    "'Baggage_handling', 'Checkin_service', 'Cleanliness', 'Online_boarding'"
   ]
  },
  {
   "cell_type": "markdown",
   "metadata": {},
   "source": [
    "### 7. Manually encode these variables(printed above) such that they follow an order based on the meaning. \n",
    "### Example: awful = 1, unpleasent = 2, decent = 3, good = 4, great = 5"
   ]
  },
  {
   "cell_type": "code",
   "execution_count": 15,
   "metadata": {},
   "outputs": [],
   "source": [
    "# Manual label encoding\n",
    "# It is a bit of a subjective task. Hence, go ahead in the way you find appropriate\n",
    "\n",
    "df.replace({'extremely poor' : 0, 'poor' : 1, 'need improvement' : 2, 'acceptable' : 3, \n",
    "            'good' : 4, 'excellent' : 5, 'not_captured' : 2}, inplace = True)  \n",
    "\n",
    "df.replace({'very inconvinient' : 0, 'Inconvinient' : 1, 'need improvement' : 2, 'manageable' : 3,\n",
    "            'Convinient' : 4, 'very convinient' : 5}, inplace = True)"
   ]
  },
  {
   "cell_type": "code",
   "execution_count": 16,
   "metadata": {},
   "outputs": [
    {
     "data": {
      "text/plain": [
       "2    22783\n",
       "4    18840\n",
       "5    17079\n",
       "3    14806\n",
       "1    13210\n",
       "0     4199\n",
       "Name: Departure.Arrival.time_convenient, dtype: int64"
      ]
     },
     "execution_count": 16,
     "metadata": {},
     "output_type": "execute_result"
    }
   ],
   "source": [
    "df['Departure.Arrival.time_convenient'].value_counts()"
   ]
  },
  {
   "cell_type": "markdown",
   "metadata": {},
   "source": [
    "### 8. Display countplot of every feedback attribute with respect to Customer Satisfaction. \n",
    "\n",
    "You can use sns.countplot and set hue  = 'Satisfaction'"
   ]
  },
  {
   "cell_type": "code",
   "execution_count": 17,
   "metadata": {
    "scrolled": true
   },
   "outputs": [
    {
     "data": {
      "text/plain": [
       "<matplotlib.legend.Legend at 0x1e7bf38d8d0>"
      ]
     },
     "execution_count": 17,
     "metadata": {},
     "output_type": "execute_result"
    },
    {
     "data": {
      "image/png": "[encoded data removed]",
      "text/plain": [
       "<Figure size 432x288 with 1 Axes>"
      ]
     },
     "metadata": {
      "needs_background": "light"
     },
     "output_type": "display_data"
    }
   ],
   "source": [
    "# We can use seaborn's countplot to plot a stacked baatchart\n",
    "sns.countplot(df.Seat_comfort, hue = df.Satisfaction) \n",
    "plt.legend(loc = 'upper right', bbox_to_anchor=(1.45, 1))   # to place the legend in a 'good' position\n",
    "\n"
   ]
  },
  {
   "cell_type": "code",
   "execution_count": 18,
   "metadata": {},
   "outputs": [
    {
     "data": {
      "image/png": "[encoded data removed]",
      "text/plain": [
       "<Figure size 2160x1440 with 14 Axes>"
      ]
     },
     "metadata": {
      "needs_background": "light"
     },
     "output_type": "display_data"
    }
   ],
   "source": [
    "# Since there are a lot of columns that we want to plot, we can put all of them in one plot by using subplot()\n",
    "# Additionally, since there are a lot of subplots that need to be plotted, we can use a for loop\n",
    "\n",
    "plt.figure(figsize= (30,20))  # setting the figure size\n",
    "pos = 1  # we will use this variable to index each of the plots\n",
    "feedback = [ 'Seat_comfort', 'Departure.Arrival.time_convenient', 'Food_drink',\n",
    "           'Gate_location', 'Inflightwifi_service','Inflight_entertainment',\n",
    "           'Online_support', 'Ease_of_Onlinebooking', 'Onboard_service',\n",
    "           'Leg_room_service', 'Baggage_handling','Checkin_service', 'Cleanliness', 'Online_boarding']\n",
    "\n",
    "for i in feedback:\n",
    "    plt.subplot(3, 5, pos)\n",
    "    sns.countplot(df[i], hue = df.Satisfaction,\n",
    "                  palette = {'satisfied':'green','neutral or dissatisfied': 'red'})\n",
    "    plt.legend().remove()  # Remove legend to make the entire plot look 'good'\n",
    "    pos += 1  # to plot over the grid one by one   "
   ]
  },
  {
   "cell_type": "raw",
   "metadata": {},
   "source": [
    "# Alternate way\n",
    "# Using sns.barplot()\n",
    "\n",
    "plt.figure(figsize= (30,20))  \n",
    "pos = 1  \n",
    "\n",
    "for i in feedback:\n",
    "    ct = pd.crosstab(df[i], df.Satisfaction)  # Crosstab \n",
    "    stacked =ct.stack().reset_index().rename(columns={0:'value'}) #dataframe with name and count accross satisfaction levels\n",
    "    plt.subplot(3, 5, pos)\n",
    "    sns.barplot(x=stacked[i], y=stacked.value, hue=stacked.Satisfaction,\n",
    "               palette = {'satisfied':'lightgreen','neutral or dissatisfied': 'coral'}) # Barplot\n",
    "    plt.legend().remove()  # Remove legend to make the entire plot look 'good'\n",
    "    pos += 1  # to plot over the grid one by one    "
   ]
  },
  {
   "cell_type": "markdown",
   "metadata": {},
   "source": [
    "### 9. Draw all the insights that you can from the plots"
   ]
  },
  {
   "cell_type": "markdown",
   "metadata": {},
   "source": [
    "**Green and orange bars are counts of satisfied and dissatisfied customers respectively. We want to look for areas where there is a visually significant difference between the length of the stacked bars**\n",
    "\n",
    "- From the plots above,\n",
    "    - Seating comfort can cause high levels of satisfaction to customers. Hardly any people who rated highly for seat_comfort were dissatisfied\n",
    "    - A similar case with respect to inflight_entertainment. In this case, having less entertainment seems to have caused far more dissatisfaction compared to bad seating.\n",
    "    - Difference is observed in ease_of_online_booking quiet evidently"
   ]
  },
  {
   "cell_type": "markdown",
   "metadata": {},
   "source": [
    "### 10. Print the average feedback score\n",
    "- When Satisfaction columns equals 'satisfied'\n",
    "- When Satisfaction columns is not equal to 'satisfied'"
   ]
  },
  {
   "cell_type": "code",
   "execution_count": 19,
   "metadata": {},
   "outputs": [],
   "source": [
    "Feedback_cols = ['Seat_comfort', 'Departure.Arrival.time_convenient',\n",
    "                 'Food_drink', 'Gate_location', 'Inflightwifi_service',\n",
    "                 'Inflight_entertainment', 'Online_support', 'Ease_of_Onlinebooking', \n",
    "                 'Onboard_service', 'Leg_room_service', 'Baggage_handling', 'Checkin_service',\n",
    "                 'Cleanliness', 'Online_boarding']"
   ]
  },
  {
   "cell_type": "code",
   "execution_count": 20,
   "metadata": {},
   "outputs": [
    {
     "data": {
      "text/html": [
       "<div>\n",
       "<style scoped>\n",
       "    .dataframe tbody tr th:only-of-type {\n",
       "        vertical-align: middle;\n",
       "    }\n",
       "\n",
       "    .dataframe tbody tr th {\n",
       "        vertical-align: top;\n",
       "    }\n",
       "\n",
       "    .dataframe thead th {\n",
       "        text-align: right;\n",
       "    }\n",
       "</style>\n",
       "<table border=\"1\" class=\"dataframe\">\n",
       "  <thead>\n",
       "    <tr style=\"text-align: right;\">\n",
       "      <th></th>\n",
       "      <th>Seat_comfort</th>\n",
       "      <th>Departure.Arrival.time_convenient</th>\n",
       "      <th>Food_drink</th>\n",
       "      <th>Gate_location</th>\n",
       "      <th>Inflightwifi_service</th>\n",
       "      <th>Inflight_entertainment</th>\n",
       "      <th>Online_support</th>\n",
       "      <th>Ease_of_Onlinebooking</th>\n",
       "      <th>Onboard_service</th>\n",
       "      <th>Leg_room_service</th>\n",
       "      <th>Baggage_handling</th>\n",
       "      <th>Checkin_service</th>\n",
       "      <th>Cleanliness</th>\n",
       "      <th>Online_boarding</th>\n",
       "      <th>Age</th>\n",
       "      <th>Flight_Distance</th>\n",
       "      <th>DepartureDelayin_Mins</th>\n",
       "      <th>ArrivalDelayin_Mins</th>\n",
       "    </tr>\n",
       "    <tr>\n",
       "      <th>Satisfaction</th>\n",
       "      <th></th>\n",
       "      <th></th>\n",
       "      <th></th>\n",
       "      <th></th>\n",
       "      <th></th>\n",
       "      <th></th>\n",
       "      <th></th>\n",
       "      <th></th>\n",
       "      <th></th>\n",
       "      <th></th>\n",
       "      <th></th>\n",
       "      <th></th>\n",
       "      <th></th>\n",
       "      <th></th>\n",
       "      <th></th>\n",
       "      <th></th>\n",
       "      <th></th>\n",
       "      <th></th>\n",
       "    </tr>\n",
       "  </thead>\n",
       "  <tbody>\n",
       "    <tr>\n",
       "      <th>neutral or dissatisfied</th>\n",
       "      <td>2.469239</td>\n",
       "      <td>2.928127</td>\n",
       "      <td>2.603606</td>\n",
       "      <td>3.007848</td>\n",
       "      <td>2.923219</td>\n",
       "      <td>2.613058</td>\n",
       "      <td>2.962071</td>\n",
       "      <td>2.858563</td>\n",
       "      <td>2.900209</td>\n",
       "      <td>3.053164</td>\n",
       "      <td>3.368209</td>\n",
       "      <td>2.970673</td>\n",
       "      <td>3.381159</td>\n",
       "      <td>2.873530</td>\n",
       "      <td>37.493221</td>\n",
       "      <td>2026.647512</td>\n",
       "      <td>17.793177</td>\n",
       "      <td>18.432402</td>\n",
       "    </tr>\n",
       "    <tr>\n",
       "      <th>satisfied</th>\n",
       "      <td>3.144511</td>\n",
       "      <td>2.882559</td>\n",
       "      <td>2.914210</td>\n",
       "      <td>2.975985</td>\n",
       "      <td>3.523121</td>\n",
       "      <td>4.021543</td>\n",
       "      <td>3.979864</td>\n",
       "      <td>3.985953</td>\n",
       "      <td>3.723297</td>\n",
       "      <td>3.845803</td>\n",
       "      <td>3.969695</td>\n",
       "      <td>3.646852</td>\n",
       "      <td>3.978115</td>\n",
       "      <td>3.748598</td>\n",
       "      <td>41.063222</td>\n",
       "      <td>1944.396194</td>\n",
       "      <td>12.117220</td>\n",
       "      <td>12.268821</td>\n",
       "    </tr>\n",
       "  </tbody>\n",
       "</table>\n",
       "</div>"
      ],
      "text/plain": [
       "                         Seat_comfort  Departure.Arrival.time_convenient  \\\n",
       "Satisfaction                                                               \n",
       "neutral or dissatisfied      2.469239                           2.928127   \n",
       "satisfied                    3.144511                           2.882559   \n",
       "\n",
       "                         Food_drink  Gate_location  Inflightwifi_service  \\\n",
       "Satisfaction                                                               \n",
       "neutral or dissatisfied    2.603606       3.007848              2.923219   \n",
       "satisfied                  2.914210       2.975985              3.523121   \n",
       "\n",
       "                         Inflight_entertainment  Online_support  \\\n",
       "Satisfaction                                                      \n",
       "neutral or dissatisfied                2.613058        2.962071   \n",
       "satisfied                              4.021543        3.979864   \n",
       "\n",
       "                         Ease_of_Onlinebooking  Onboard_service  \\\n",
       "Satisfaction                                                      \n",
       "neutral or dissatisfied               2.858563         2.900209   \n",
       "satisfied                             3.985953         3.723297   \n",
       "\n",
       "                         Leg_room_service  Baggage_handling  Checkin_service  \\\n",
       "Satisfaction                                                                   \n",
       "neutral or dissatisfied          3.053164          3.368209         2.970673   \n",
       "satisfied                        3.845803          3.969695         3.646852   \n",
       "\n",
       "                         Cleanliness  Online_boarding        Age  \\\n",
       "Satisfaction                                                       \n",
       "neutral or dissatisfied     3.381159         2.873530  37.493221   \n",
       "satisfied                   3.978115         3.748598  41.063222   \n",
       "\n",
       "                         Flight_Distance  DepartureDelayin_Mins  \\\n",
       "Satisfaction                                                      \n",
       "neutral or dissatisfied      2026.647512              17.793177   \n",
       "satisfied                    1944.396194              12.117220   \n",
       "\n",
       "                         ArrivalDelayin_Mins  \n",
       "Satisfaction                                  \n",
       "neutral or dissatisfied            18.432402  \n",
       "satisfied                          12.268821  "
      ]
     },
     "execution_count": 20,
     "metadata": {},
     "output_type": "execute_result"
    }
   ],
   "source": [
    "df.groupby('Satisfaction').mean() # Average rating of individual feedback attributes across satisfaction levels\n"
   ]
  },
  {
   "cell_type": "markdown",
   "metadata": {},
   "source": [
    "### 11. Draw any insights that you can from the above values"
   ]
  },
  {
   "cell_type": "markdown",
   "metadata": {},
   "source": [
    "- Observe the Exreme values (lower side for 'dissatisfaction' and higher side for 'satisfaction')\n",
    "- Bad seats are a strong cause for customer dissatisfication\n",
    "- Time convenience doesn't seem to be that big of a deal\n",
    "- Dissatisfied customers had some bad experiences with food but average food seems to satisfy most people\n",
    "- Gate location is totally irrelevant\n",
    "- Wifi is quiet a factor. On an average, having good wifi yeilded customer satisfaction\n",
    "- Easy online booking facility seems to be very important for customer satisfaction\n",
    "- In flight entertainment seems to be a deal breaker"
   ]
  },
  {
   "cell_type": "markdown",
   "metadata": {},
   "source": [
    "### 12. Achieve the following\n",
    "- Print the number of people who are more than just satisfied with the \"Inflight_entertainment\" and yet were dissatisfied overall\n",
    "- Print the number of people who are more than just satisfied with the \"Inflight_entertainment\" and were satisfied overall"
   ]
  },
  {
   "cell_type": "code",
   "execution_count": 20,
   "metadata": {},
   "outputs": [
    {
     "data": {
      "text/plain": [
       "4    29373\n",
       "5    20786\n",
       "3    16995\n",
       "2    13527\n",
       "1     8198\n",
       "0     2038\n",
       "Name: Inflight_entertainment, dtype: int64"
      ]
     },
     "execution_count": 20,
     "metadata": {},
     "output_type": "execute_result"
    }
   ],
   "source": [
    "df.Inflight_entertainment.value_counts()"
   ]
  },
  {
   "cell_type": "code",
   "execution_count": 21,
   "metadata": {},
   "outputs": [
    {
     "name": "stdout",
     "output_type": "stream",
     "text": [
      "10.11581992366664 percent\n"
     ]
    }
   ],
   "source": [
    "# Number of people who got entertained well but were dissatisfied in the end\n",
    "entertained_and_dissatisfied = df[(df.Inflight_entertainment > 3) & (df.Satisfaction != 'satisfied')]\n",
    "print(100 * entertained_and_dissatisfied.shape[0]/df.shape[0], 'percent')"
   ]
  },
  {
   "cell_type": "code",
   "execution_count": 22,
   "metadata": {},
   "outputs": [
    {
     "name": "stdout",
     "output_type": "stream",
     "text": [
      "45.054280277615845 percent\n"
     ]
    }
   ],
   "source": [
    "# Number of customers who got entertained and were satisfied with the flight\n",
    "entertained_and_satisfied = df[(df.Inflight_entertainment > 3) & (df.Satisfaction == 'satisfied')]\n",
    "print(100 * entertained_and_satisfied.shape[0]/df.shape[0], 'percent')"
   ]
  },
  {
   "cell_type": "markdown",
   "metadata": {},
   "source": [
    "### 13. Create a new column which is the mean of 'Ease_of_Onlinebooking', 'Online_boarding', 'Online_support' and name it \"avg_feedback_of_online_services\". \n",
    "\n",
    "DIY : If online services has a bad ratings then what is the average ratings of other feedback attributes? \n",
    "And how does it impact Final Satisfaction of customers?"
   ]
  },
  {
   "cell_type": "code",
   "execution_count": 23,
   "metadata": {},
   "outputs": [
    {
     "data": {
      "text/plain": [
       "4.000000    18368\n",
       "3.000000    11888\n",
       "5.000000    11047\n",
       "2.000000     9124\n",
       "4.333333     9039\n",
       "3.666667     6470\n",
       "1.000000     6278\n",
       "4.666667     5871\n",
       "3.333333     4462\n",
       "2.666667     3593\n",
       "2.333333     3176\n",
       "1.666667     1180\n",
       "1.333333      419\n",
       "0.666667        2\n",
       "Name: avg_feedback_of_online_services, dtype: int64"
      ]
     },
     "execution_count": 23,
     "metadata": {},
     "output_type": "execute_result"
    }
   ],
   "source": [
    "online_df = df.loc[:, ['Ease_of_Onlinebooking', 'Online_boarding', 'Online_support']]\n",
    "online_df['avg_feedback_of_online_services'] = online_df.mean(axis = 1)\n",
    "\n",
    "online_df['avg_feedback_of_online_services'].value_counts()\n"
   ]
  },
  {
   "cell_type": "markdown",
   "metadata": {},
   "source": [
    "-You might find that -  **A lot of things had to go well to satisfy the customers when the only services had a bad rating**"
   ]
  },
  {
   "cell_type": "markdown",
   "metadata": {},
   "source": [
    "# Model building and evaluation"
   ]
  },
  {
   "cell_type": "markdown",
   "metadata": {},
   "source": [
    "### 14. Encode the columns \"Gender\", \"CustomerType\", \"TypeTravel\", \"Class\", \"Satisfaction\" \n",
    "- Use manual encoding or other type of encoding"
   ]
  },
  {
   "cell_type": "code",
   "execution_count": 24,
   "metadata": {},
   "outputs": [
    {
     "name": "stdout",
     "output_type": "stream",
     "text": [
      "Satisfaction -> 2\n",
      "Gender -> 2\n",
      "CustomerType -> 3\n",
      "TypeTravel -> 3\n",
      "Class -> 3\n"
     ]
    }
   ],
   "source": [
    "# Number of classes in each of the categorical attributes\n",
    "for i in df.columns:\n",
    "    if df[i].dtype == 'O':\n",
    "        print(i, '->', len(df[i].value_counts()))"
   ]
  },
  {
   "cell_type": "code",
   "execution_count": 25,
   "metadata": {},
   "outputs": [
    {
     "data": {
      "text/plain": [
       "Business    43535\n",
       "Eco         40758\n",
       "Eco Plus     6624\n",
       "Name: Class, dtype: int64"
      ]
     },
     "execution_count": 25,
     "metadata": {},
     "output_type": "execute_result"
    }
   ],
   "source": [
    "df.Class.value_counts()"
   ]
  },
  {
   "cell_type": "code",
   "execution_count": 26,
   "metadata": {},
   "outputs": [],
   "source": [
    "#Manuanl Encoding\n",
    "df.replace({'Loyal Customer' : 1, 'disloyal Customer' : 0,\n",
    "               'Business travel' : 1, 'Personal Travel' : 0,\n",
    "              'Female' : 0, 'Male' : 1,\n",
    "               'satisfied' : 1, 'neutral or dissatisfied' : 0, 'Eco Plus': 0 , 'Eco': 1, 'Business': 2}, inplace = True)\n",
    "               "
   ]
  },
  {
   "cell_type": "code",
   "execution_count": 27,
   "metadata": {},
   "outputs": [],
   "source": [
    "#onehotencoding\n",
    "df_coded = pd.get_dummies(df)"
   ]
  },
  {
   "cell_type": "raw",
   "metadata": {},
   "source": [
    "#Alternate method - 1\n",
    "#Use categoryencoding\n",
    "import category_encoders as ce\n",
    "cols = [\"Gender\", \"CustomerType\", \"TypeTravel\", \"Class\", \"Satisfaction\"]\n",
    "\n",
    "ce = ce.TargetEncoder()\n",
    "df[cols] = ce.fit_transform(df[cols])\n",
    "\n",
    "\n",
    "                             \n",
    "Alternate - 2 - Onehotencoding\n",
    "You can learn more about encoding here - https://kiwidamien.github.io/encoding-categorical-variables.html\n",
    "\n",
    "\n",
    "\n"
   ]
  },
  {
   "cell_type": "code",
   "execution_count": 28,
   "metadata": {},
   "outputs": [
    {
     "data": {
      "text/plain": [
       "Index(['Satisfaction', 'Seat_comfort', 'Departure.Arrival.time_convenient',\n",
       "       'Food_drink', 'Gate_location', 'Inflightwifi_service',\n",
       "       'Inflight_entertainment', 'Online_support', 'Ease_of_Onlinebooking',\n",
       "       'Onboard_service', 'Leg_room_service', 'Baggage_handling',\n",
       "       'Checkin_service', 'Cleanliness', 'Online_boarding', 'Gender',\n",
       "       'CustomerType', 'Age', 'TypeTravel', 'Class', 'Flight_Distance',\n",
       "       'DepartureDelayin_Mins', 'ArrivalDelayin_Mins'],\n",
       "      dtype='object')"
      ]
     },
     "execution_count": 28,
     "metadata": {},
     "output_type": "execute_result"
    }
   ],
   "source": [
    "df_coded.columns"
   ]
  },
  {
   "cell_type": "code",
   "execution_count": 29,
   "metadata": {},
   "outputs": [
    {
     "data": {
      "text/html": [
       "<div>\n",
       "<style scoped>\n",
       "    .dataframe tbody tr th:only-of-type {\n",
       "        vertical-align: middle;\n",
       "    }\n",
       "\n",
       "    .dataframe tbody tr th {\n",
       "        vertical-align: top;\n",
       "    }\n",
       "\n",
       "    .dataframe thead th {\n",
       "        text-align: right;\n",
       "    }\n",
       "</style>\n",
       "<table border=\"1\" class=\"dataframe\">\n",
       "  <thead>\n",
       "    <tr style=\"text-align: right;\">\n",
       "      <th></th>\n",
       "      <th>Satisfaction</th>\n",
       "      <th>Seat_comfort</th>\n",
       "      <th>Departure.Arrival.time_convenient</th>\n",
       "      <th>Food_drink</th>\n",
       "      <th>Gate_location</th>\n",
       "      <th>Inflightwifi_service</th>\n",
       "      <th>Inflight_entertainment</th>\n",
       "      <th>Online_support</th>\n",
       "      <th>Ease_of_Onlinebooking</th>\n",
       "      <th>Onboard_service</th>\n",
       "      <th>...</th>\n",
       "      <th>Cleanliness</th>\n",
       "      <th>Online_boarding</th>\n",
       "      <th>Gender</th>\n",
       "      <th>CustomerType</th>\n",
       "      <th>Age</th>\n",
       "      <th>TypeTravel</th>\n",
       "      <th>Class</th>\n",
       "      <th>Flight_Distance</th>\n",
       "      <th>DepartureDelayin_Mins</th>\n",
       "      <th>ArrivalDelayin_Mins</th>\n",
       "    </tr>\n",
       "    <tr>\n",
       "      <th>Id</th>\n",
       "      <th></th>\n",
       "      <th></th>\n",
       "      <th></th>\n",
       "      <th></th>\n",
       "      <th></th>\n",
       "      <th></th>\n",
       "      <th></th>\n",
       "      <th></th>\n",
       "      <th></th>\n",
       "      <th></th>\n",
       "      <th></th>\n",
       "      <th></th>\n",
       "      <th></th>\n",
       "      <th></th>\n",
       "      <th></th>\n",
       "      <th></th>\n",
       "      <th></th>\n",
       "      <th></th>\n",
       "      <th></th>\n",
       "      <th></th>\n",
       "      <th></th>\n",
       "    </tr>\n",
       "  </thead>\n",
       "  <tbody>\n",
       "    <tr>\n",
       "      <td>198671</td>\n",
       "      <td>0</td>\n",
       "      <td>1</td>\n",
       "      <td>3</td>\n",
       "      <td>3</td>\n",
       "      <td>3</td>\n",
       "      <td>1</td>\n",
       "      <td>2</td>\n",
       "      <td>1</td>\n",
       "      <td>1</td>\n",
       "      <td>3</td>\n",
       "      <td>...</td>\n",
       "      <td>2</td>\n",
       "      <td>1</td>\n",
       "      <td>1</td>\n",
       "      <td>1</td>\n",
       "      <td>30</td>\n",
       "      <td>1</td>\n",
       "      <td>2</td>\n",
       "      <td>1354</td>\n",
       "      <td>11</td>\n",
       "      <td>8.0</td>\n",
       "    </tr>\n",
       "    <tr>\n",
       "      <td>193378</td>\n",
       "      <td>1</td>\n",
       "      <td>5</td>\n",
       "      <td>2</td>\n",
       "      <td>5</td>\n",
       "      <td>4</td>\n",
       "      <td>3</td>\n",
       "      <td>5</td>\n",
       "      <td>3</td>\n",
       "      <td>3</td>\n",
       "      <td>4</td>\n",
       "      <td>...</td>\n",
       "      <td>5</td>\n",
       "      <td>3</td>\n",
       "      <td>0</td>\n",
       "      <td>0</td>\n",
       "      <td>20</td>\n",
       "      <td>2</td>\n",
       "      <td>2</td>\n",
       "      <td>1439</td>\n",
       "      <td>6</td>\n",
       "      <td>0.0</td>\n",
       "    </tr>\n",
       "    <tr>\n",
       "      <td>174522</td>\n",
       "      <td>1</td>\n",
       "      <td>4</td>\n",
       "      <td>4</td>\n",
       "      <td>4</td>\n",
       "      <td>3</td>\n",
       "      <td>3</td>\n",
       "      <td>5</td>\n",
       "      <td>5</td>\n",
       "      <td>2</td>\n",
       "      <td>2</td>\n",
       "      <td>...</td>\n",
       "      <td>2</td>\n",
       "      <td>5</td>\n",
       "      <td>0</td>\n",
       "      <td>2</td>\n",
       "      <td>55</td>\n",
       "      <td>0</td>\n",
       "      <td>0</td>\n",
       "      <td>976</td>\n",
       "      <td>4</td>\n",
       "      <td>0.0</td>\n",
       "    </tr>\n",
       "    <tr>\n",
       "      <td>191830</td>\n",
       "      <td>1</td>\n",
       "      <td>4</td>\n",
       "      <td>4</td>\n",
       "      <td>4</td>\n",
       "      <td>3</td>\n",
       "      <td>1</td>\n",
       "      <td>4</td>\n",
       "      <td>1</td>\n",
       "      <td>1</td>\n",
       "      <td>1</td>\n",
       "      <td>...</td>\n",
       "      <td>3</td>\n",
       "      <td>1</td>\n",
       "      <td>1</td>\n",
       "      <td>0</td>\n",
       "      <td>24</td>\n",
       "      <td>1</td>\n",
       "      <td>1</td>\n",
       "      <td>2291</td>\n",
       "      <td>0</td>\n",
       "      <td>0.0</td>\n",
       "    </tr>\n",
       "    <tr>\n",
       "      <td>221497</td>\n",
       "      <td>1</td>\n",
       "      <td>4</td>\n",
       "      <td>4</td>\n",
       "      <td>2</td>\n",
       "      <td>4</td>\n",
       "      <td>4</td>\n",
       "      <td>4</td>\n",
       "      <td>4</td>\n",
       "      <td>4</td>\n",
       "      <td>4</td>\n",
       "      <td>...</td>\n",
       "      <td>4</td>\n",
       "      <td>4</td>\n",
       "      <td>1</td>\n",
       "      <td>1</td>\n",
       "      <td>32</td>\n",
       "      <td>1</td>\n",
       "      <td>2</td>\n",
       "      <td>3974</td>\n",
       "      <td>0</td>\n",
       "      <td>0.0</td>\n",
       "    </tr>\n",
       "  </tbody>\n",
       "</table>\n",
       "<p>5 rows × 23 columns</p>\n",
       "</div>"
      ],
      "text/plain": [
       "        Satisfaction  Seat_comfort  Departure.Arrival.time_convenient  \\\n",
       "Id                                                                      \n",
       "198671             0             1                                  3   \n",
       "193378             1             5                                  2   \n",
       "174522             1             4                                  4   \n",
       "191830             1             4                                  4   \n",
       "221497             1             4                                  4   \n",
       "\n",
       "        Food_drink  Gate_location  Inflightwifi_service  \\\n",
       "Id                                                        \n",
       "198671           3              3                     1   \n",
       "193378           5              4                     3   \n",
       "174522           4              3                     3   \n",
       "191830           4              3                     1   \n",
       "221497           2              4                     4   \n",
       "\n",
       "        Inflight_entertainment  Online_support  Ease_of_Onlinebooking  \\\n",
       "Id                                                                      \n",
       "198671                       2               1                      1   \n",
       "193378                       5               3                      3   \n",
       "174522                       5               5                      2   \n",
       "191830                       4               1                      1   \n",
       "221497                       4               4                      4   \n",
       "\n",
       "        Onboard_service  ...  Cleanliness  Online_boarding  Gender  \\\n",
       "Id                       ...                                         \n",
       "198671                3  ...            2                1       1   \n",
       "193378                4  ...            5                3       0   \n",
       "174522                2  ...            2                5       0   \n",
       "191830                1  ...            3                1       1   \n",
       "221497                4  ...            4                4       1   \n",
       "\n",
       "        CustomerType  Age  TypeTravel  Class  Flight_Distance  \\\n",
       "Id                                                              \n",
       "198671             1   30           1      2             1354   \n",
       "193378             0   20           2      2             1439   \n",
       "174522             2   55           0      0              976   \n",
       "191830             0   24           1      1             2291   \n",
       "221497             1   32           1      2             3974   \n",
       "\n",
       "        DepartureDelayin_Mins  ArrivalDelayin_Mins  \n",
       "Id                                                  \n",
       "198671                     11                  8.0  \n",
       "193378                      6                  0.0  \n",
       "174522                      4                  0.0  \n",
       "191830                      0                  0.0  \n",
       "221497                      0                  0.0  \n",
       "\n",
       "[5 rows x 23 columns]"
      ]
     },
     "execution_count": 29,
     "metadata": {},
     "output_type": "execute_result"
    }
   ],
   "source": [
    "df_coded.head()"
   ]
  },
  {
   "cell_type": "markdown",
   "metadata": {},
   "source": [
    "# Scaling"
   ]
  },
  {
   "cell_type": "raw",
   "metadata": {},
   "source": [
    "#MinMax Scaling - scales the data set such that all feature values are in the range [0, 1].\n",
    "#StandardScaler - removes the mean and scales the data to unit variance\n",
    "\n",
    "\n",
    "You can learn about other scalers here -\n",
    "https://scikit-learn.org/stable/auto_examples/preprocessing/plot_all_scaling.html\n"
   ]
  },
  {
   "cell_type": "code",
   "execution_count": 30,
   "metadata": {
    "scrolled": true
   },
   "outputs": [
    {
     "data": {
      "text/plain": [
       "Index(['Satisfaction', 'Seat_comfort', 'Departure.Arrival.time_convenient',\n",
       "       'Food_drink', 'Gate_location', 'Inflightwifi_service',\n",
       "       'Inflight_entertainment', 'Online_support', 'Ease_of_Onlinebooking',\n",
       "       'Onboard_service', 'Leg_room_service', 'Baggage_handling',\n",
       "       'Checkin_service', 'Cleanliness', 'Online_boarding', 'Gender',\n",
       "       'CustomerType', 'Age', 'TypeTravel', 'Class', 'Flight_Distance',\n",
       "       'DepartureDelayin_Mins', 'ArrivalDelayin_Mins'],\n",
       "      dtype='object')"
      ]
     },
     "execution_count": 30,
     "metadata": {},
     "output_type": "execute_result"
    }
   ],
   "source": [
    "df_coded.columns"
   ]
  },
  {
   "cell_type": "code",
   "execution_count": 31,
   "metadata": {},
   "outputs": [],
   "source": [
    "#Here we are going to use StandardScaler to scale our data.\n",
    "from sklearn.preprocessing import StandardScaler\n",
    "\n",
    "scaler = StandardScaler()\n",
    "#What all columns to scale? I have preferred all columns except onehotencoded columns and target columns as\n",
    "#scaling of target feature will not change anything as they already have values like 0 and 1 only.\n",
    "#You may only scale numerical features and leave categorical features as required according to business problem need and results.\n",
    "cols_to_scale = ['Seat_comfort', 'Departure.Arrival.time_convenient',\n",
    "       'Food_drink', 'Gate_location', 'Inflightwifi_service',\n",
    "       'Inflight_entertainment', 'Online_support', 'Ease_of_Onlinebooking',\n",
    "       'Onboard_service', 'Leg_room_service', 'Baggage_handling',\n",
    "       'Checkin_service', 'Cleanliness', 'Online_boarding',\n",
    "       'Age', 'Flight_Distance','DepartureDelayin_Mins', 'ArrivalDelayin_Mins']\n",
    "\n",
    "df_coded[cols_to_scale] = scaler.fit_transform(df_coded[cols_to_scale].to_numpy())\n",
    "\n",
    "#scaler.fit\n",
    "#scaler.transform\n",
    "\n",
    "df_coded - scaling\n",
    "\n",
    "X,y - scaling\n",
    "\n",
    "X_train, y_train, - scaling\n",
    "use the same instance in the test data\n",
    "X_test, y_test\n",
    "\n",
    "\n",
    "\n",
    "\n",
    "\n"
   ]
  },
  {
   "cell_type": "code",
   "execution_count": 32,
   "metadata": {
    "scrolled": true
   },
   "outputs": [
    {
     "data": {
      "text/html": [
       "<div>\n",
       "<style scoped>\n",
       "    .dataframe tbody tr th:only-of-type {\n",
       "        vertical-align: middle;\n",
       "    }\n",
       "\n",
       "    .dataframe tbody tr th {\n",
       "        vertical-align: top;\n",
       "    }\n",
       "\n",
       "    .dataframe thead th {\n",
       "        text-align: right;\n",
       "    }\n",
       "</style>\n",
       "<table border=\"1\" class=\"dataframe\">\n",
       "  <thead>\n",
       "    <tr style=\"text-align: right;\">\n",
       "      <th></th>\n",
       "      <th>Satisfaction</th>\n",
       "      <th>Seat_comfort</th>\n",
       "      <th>Departure.Arrival.time_convenient</th>\n",
       "      <th>Food_drink</th>\n",
       "      <th>Gate_location</th>\n",
       "      <th>Inflightwifi_service</th>\n",
       "      <th>Inflight_entertainment</th>\n",
       "      <th>Online_support</th>\n",
       "      <th>Ease_of_Onlinebooking</th>\n",
       "      <th>Onboard_service</th>\n",
       "      <th>...</th>\n",
       "      <th>Cleanliness</th>\n",
       "      <th>Online_boarding</th>\n",
       "      <th>Gender</th>\n",
       "      <th>CustomerType</th>\n",
       "      <th>Age</th>\n",
       "      <th>TypeTravel</th>\n",
       "      <th>Class</th>\n",
       "      <th>Flight_Distance</th>\n",
       "      <th>DepartureDelayin_Mins</th>\n",
       "      <th>ArrivalDelayin_Mins</th>\n",
       "    </tr>\n",
       "  </thead>\n",
       "  <tbody>\n",
       "    <tr>\n",
       "      <td>count</td>\n",
       "      <td>90917.000000</td>\n",
       "      <td>9.091700e+04</td>\n",
       "      <td>9.091700e+04</td>\n",
       "      <td>9.091700e+04</td>\n",
       "      <td>9.091700e+04</td>\n",
       "      <td>9.091700e+04</td>\n",
       "      <td>9.091700e+04</td>\n",
       "      <td>9.091700e+04</td>\n",
       "      <td>9.091700e+04</td>\n",
       "      <td>9.091700e+04</td>\n",
       "      <td>...</td>\n",
       "      <td>9.091700e+04</td>\n",
       "      <td>9.091700e+04</td>\n",
       "      <td>90917.000000</td>\n",
       "      <td>90917.000000</td>\n",
       "      <td>9.091700e+04</td>\n",
       "      <td>90917.000000</td>\n",
       "      <td>90917.000000</td>\n",
       "      <td>9.091700e+04</td>\n",
       "      <td>9.091700e+04</td>\n",
       "      <td>9.091700e+04</td>\n",
       "    </tr>\n",
       "    <tr>\n",
       "      <td>mean</td>\n",
       "      <td>0.547323</td>\n",
       "      <td>6.314754e-17</td>\n",
       "      <td>1.263732e-16</td>\n",
       "      <td>2.516523e-17</td>\n",
       "      <td>5.150276e-17</td>\n",
       "      <td>1.087888e-16</td>\n",
       "      <td>-9.999664e-17</td>\n",
       "      <td>1.427854e-16</td>\n",
       "      <td>7.178344e-17</td>\n",
       "      <td>1.252009e-16</td>\n",
       "      <td>...</td>\n",
       "      <td>-1.289718e-16</td>\n",
       "      <td>3.063594e-17</td>\n",
       "      <td>0.491998</td>\n",
       "      <td>0.935964</td>\n",
       "      <td>-7.502679e-17</td>\n",
       "      <td>0.821156</td>\n",
       "      <td>1.405986</td>\n",
       "      <td>9.558100e-17</td>\n",
       "      <td>6.252232e-19</td>\n",
       "      <td>-4.845480e-18</td>\n",
       "    </tr>\n",
       "    <tr>\n",
       "      <td>std</td>\n",
       "      <td>0.497758</td>\n",
       "      <td>1.000005e+00</td>\n",
       "      <td>1.000005e+00</td>\n",
       "      <td>1.000005e+00</td>\n",
       "      <td>1.000005e+00</td>\n",
       "      <td>1.000005e+00</td>\n",
       "      <td>1.000005e+00</td>\n",
       "      <td>1.000005e+00</td>\n",
       "      <td>1.000005e+00</td>\n",
       "      <td>1.000005e+00</td>\n",
       "      <td>...</td>\n",
       "      <td>1.000005e+00</td>\n",
       "      <td>1.000005e+00</td>\n",
       "      <td>0.499939</td>\n",
       "      <td>0.509999</td>\n",
       "      <td>1.000005e+00</td>\n",
       "      <td>0.588882</td>\n",
       "      <td>0.621997</td>\n",
       "      <td>1.000005e+00</td>\n",
       "      <td>1.000005e+00</td>\n",
       "      <td>1.000005e+00</td>\n",
       "    </tr>\n",
       "    <tr>\n",
       "      <td>min</td>\n",
       "      <td>0.000000</td>\n",
       "      <td>-2.037086e+00</td>\n",
       "      <td>-1.958795e+00</td>\n",
       "      <td>-1.984146e+00</td>\n",
       "      <td>-2.286429e+00</td>\n",
       "      <td>-2.463102e+00</td>\n",
       "      <td>-2.521293e+00</td>\n",
       "      <td>-2.690907e+00</td>\n",
       "      <td>-2.664014e+00</td>\n",
       "      <td>-2.616084e+00</td>\n",
       "      <td>...</td>\n",
       "      <td>-3.229837e+00</td>\n",
       "      <td>-2.579441e+00</td>\n",
       "      <td>0.000000</td>\n",
       "      <td>0.000000</td>\n",
       "      <td>-2.144599e+00</td>\n",
       "      <td>0.000000</td>\n",
       "      <td>0.000000</td>\n",
       "      <td>-1.881260e+00</td>\n",
       "      <td>-3.798023e-01</td>\n",
       "      <td>-3.863514e-01</td>\n",
       "    </tr>\n",
       "    <tr>\n",
       "      <td>25%</td>\n",
       "      <td>0.000000</td>\n",
       "      <td>-6.019276e-01</td>\n",
       "      <td>-6.093847e-01</td>\n",
       "      <td>-5.534125e-01</td>\n",
       "      <td>-7.572541e-01</td>\n",
       "      <td>-9.480736e-01</td>\n",
       "      <td>-1.031147e+00</td>\n",
       "      <td>-3.969552e-01</td>\n",
       "      <td>-1.131038e+00</td>\n",
       "      <td>-1.054571e+00</td>\n",
       "      <td>...</td>\n",
       "      <td>-6.166210e-01</td>\n",
       "      <td>-1.040613e+00</td>\n",
       "      <td>0.000000</td>\n",
       "      <td>1.000000</td>\n",
       "      <td>-8.226969e-01</td>\n",
       "      <td>0.000000</td>\n",
       "      <td>1.000000</td>\n",
       "      <td>-6.054198e-01</td>\n",
       "      <td>-3.798023e-01</td>\n",
       "      <td>-3.863514e-01</td>\n",
       "    </tr>\n",
       "    <tr>\n",
       "      <td>50%</td>\n",
       "      <td>1.000000</td>\n",
       "      <td>1.156515e-01</td>\n",
       "      <td>6.532063e-02</td>\n",
       "      <td>1.619542e-01</td>\n",
       "      <td>7.333284e-03</td>\n",
       "      <td>-1.905596e-01</td>\n",
       "      <td>4.589988e-01</td>\n",
       "      <td>3.676953e-01</td>\n",
       "      <td>4.019391e-01</td>\n",
       "      <td>5.069417e-01</td>\n",
       "      <td>...</td>\n",
       "      <td>2.544511e-01</td>\n",
       "      <td>4.982145e-01</td>\n",
       "      <td>0.000000</td>\n",
       "      <td>1.000000</td>\n",
       "      <td>3.653962e-02</td>\n",
       "      <td>1.000000</td>\n",
       "      <td>1.000000</td>\n",
       "      <td>-5.320492e-02</td>\n",
       "      <td>-3.798023e-01</td>\n",
       "      <td>-3.863514e-01</td>\n",
       "    </tr>\n",
       "    <tr>\n",
       "      <td>75%</td>\n",
       "      <td>1.000000</td>\n",
       "      <td>8.332305e-01</td>\n",
       "      <td>7.400259e-01</td>\n",
       "      <td>8.773210e-01</td>\n",
       "      <td>7.719207e-01</td>\n",
       "      <td>5.669545e-01</td>\n",
       "      <td>4.589988e-01</td>\n",
       "      <td>1.132346e+00</td>\n",
       "      <td>1.168428e+00</td>\n",
       "      <td>5.069417e-01</td>\n",
       "      <td>...</td>\n",
       "      <td>1.125523e+00</td>\n",
       "      <td>4.982145e-01</td>\n",
       "      <td>1.000000</td>\n",
       "      <td>1.000000</td>\n",
       "      <td>7.635859e-01</td>\n",
       "      <td>1.000000</td>\n",
       "      <td>2.000000</td>\n",
       "      <td>5.457583e-01</td>\n",
       "      <td>-6.947658e-02</td>\n",
       "      <td>-5.282384e-02</td>\n",
       "    </tr>\n",
       "    <tr>\n",
       "      <td>max</td>\n",
       "      <td>1.000000</td>\n",
       "      <td>1.550810e+00</td>\n",
       "      <td>1.414731e+00</td>\n",
       "      <td>1.592688e+00</td>\n",
       "      <td>1.536508e+00</td>\n",
       "      <td>1.324469e+00</td>\n",
       "      <td>1.204072e+00</td>\n",
       "      <td>1.132346e+00</td>\n",
       "      <td>1.168428e+00</td>\n",
       "      <td>1.287698e+00</td>\n",
       "      <td>...</td>\n",
       "      <td>1.125523e+00</td>\n",
       "      <td>1.267628e+00</td>\n",
       "      <td>1.000000</td>\n",
       "      <td>2.000000</td>\n",
       "      <td>3.010820e+00</td>\n",
       "      <td>2.000000</td>\n",
       "      <td>2.000000</td>\n",
       "      <td>4.838815e+00</td>\n",
       "      <td>4.079008e+01</td>\n",
       "      <td>4.025270e+01</td>\n",
       "    </tr>\n",
       "  </tbody>\n",
       "</table>\n",
       "<p>8 rows × 23 columns</p>\n",
       "</div>"
      ],
      "text/plain": [
       "       Satisfaction  Seat_comfort  Departure.Arrival.time_convenient  \\\n",
       "count  90917.000000  9.091700e+04                       9.091700e+04   \n",
       "mean       0.547323  6.314754e-17                       1.263732e-16   \n",
       "std        0.497758  1.000005e+00                       1.000005e+00   \n",
       "min        0.000000 -2.037086e+00                      -1.958795e+00   \n",
       "25%        0.000000 -6.019276e-01                      -6.093847e-01   \n",
       "50%        1.000000  1.156515e-01                       6.532063e-02   \n",
       "75%        1.000000  8.332305e-01                       7.400259e-01   \n",
       "max        1.000000  1.550810e+00                       1.414731e+00   \n",
       "\n",
       "         Food_drink  Gate_location  Inflightwifi_service  \\\n",
       "count  9.091700e+04   9.091700e+04          9.091700e+04   \n",
       "mean   2.516523e-17   5.150276e-17          1.087888e-16   \n",
       "std    1.000005e+00   1.000005e+00          1.000005e+00   \n",
       "min   -1.984146e+00  -2.286429e+00         -2.463102e+00   \n",
       "25%   -5.534125e-01  -7.572541e-01         -9.480736e-01   \n",
       "50%    1.619542e-01   7.333284e-03         -1.905596e-01   \n",
       "75%    8.773210e-01   7.719207e-01          5.669545e-01   \n",
       "max    1.592688e+00   1.536508e+00          1.324469e+00   \n",
       "\n",
       "       Inflight_entertainment  Online_support  Ease_of_Onlinebooking  \\\n",
       "count            9.091700e+04    9.091700e+04           9.091700e+04   \n",
       "mean            -9.999664e-17    1.427854e-16           7.178344e-17   \n",
       "std              1.000005e+00    1.000005e+00           1.000005e+00   \n",
       "min             -2.521293e+00   -2.690907e+00          -2.664014e+00   \n",
       "25%             -1.031147e+00   -3.969552e-01          -1.131038e+00   \n",
       "50%              4.589988e-01    3.676953e-01           4.019391e-01   \n",
       "75%              4.589988e-01    1.132346e+00           1.168428e+00   \n",
       "max              1.204072e+00    1.132346e+00           1.168428e+00   \n",
       "\n",
       "       Onboard_service  ...   Cleanliness  Online_boarding        Gender  \\\n",
       "count     9.091700e+04  ...  9.091700e+04     9.091700e+04  90917.000000   \n",
       "mean      1.252009e-16  ... -1.289718e-16     3.063594e-17      0.491998   \n",
       "std       1.000005e+00  ...  1.000005e+00     1.000005e+00      0.499939   \n",
       "min      -2.616084e+00  ... -3.229837e+00    -2.579441e+00      0.000000   \n",
       "25%      -1.054571e+00  ... -6.166210e-01    -1.040613e+00      0.000000   \n",
       "50%       5.069417e-01  ...  2.544511e-01     4.982145e-01      0.000000   \n",
       "75%       5.069417e-01  ...  1.125523e+00     4.982145e-01      1.000000   \n",
       "max       1.287698e+00  ...  1.125523e+00     1.267628e+00      1.000000   \n",
       "\n",
       "       CustomerType           Age    TypeTravel         Class  \\\n",
       "count  90917.000000  9.091700e+04  90917.000000  90917.000000   \n",
       "mean       0.935964 -7.502679e-17      0.821156      1.405986   \n",
       "std        0.509999  1.000005e+00      0.588882      0.621997   \n",
       "min        0.000000 -2.144599e+00      0.000000      0.000000   \n",
       "25%        1.000000 -8.226969e-01      0.000000      1.000000   \n",
       "50%        1.000000  3.653962e-02      1.000000      1.000000   \n",
       "75%        1.000000  7.635859e-01      1.000000      2.000000   \n",
       "max        2.000000  3.010820e+00      2.000000      2.000000   \n",
       "\n",
       "       Flight_Distance  DepartureDelayin_Mins  ArrivalDelayin_Mins  \n",
       "count     9.091700e+04           9.091700e+04         9.091700e+04  \n",
       "mean      9.558100e-17           6.252232e-19        -4.845480e-18  \n",
       "std       1.000005e+00           1.000005e+00         1.000005e+00  \n",
       "min      -1.881260e+00          -3.798023e-01        -3.863514e-01  \n",
       "25%      -6.054198e-01          -3.798023e-01        -3.863514e-01  \n",
       "50%      -5.320492e-02          -3.798023e-01        -3.863514e-01  \n",
       "75%       5.457583e-01          -6.947658e-02        -5.282384e-02  \n",
       "max       4.838815e+00           4.079008e+01         4.025270e+01  \n",
       "\n",
       "[8 rows x 23 columns]"
      ]
     },
     "execution_count": 32,
     "metadata": {},
     "output_type": "execute_result"
    }
   ],
   "source": [
    "df_coded.describe()"
   ]
  },
  {
   "cell_type": "code",
   "execution_count": 33,
   "metadata": {},
   "outputs": [
    {
     "data": {
      "text/html": [
       "<div>\n",
       "<style scoped>\n",
       "    .dataframe tbody tr th:only-of-type {\n",
       "        vertical-align: middle;\n",
       "    }\n",
       "\n",
       "    .dataframe tbody tr th {\n",
       "        vertical-align: top;\n",
       "    }\n",
       "\n",
       "    .dataframe thead th {\n",
       "        text-align: right;\n",
       "    }\n",
       "</style>\n",
       "<table border=\"1\" class=\"dataframe\">\n",
       "  <thead>\n",
       "    <tr style=\"text-align: right;\">\n",
       "      <th></th>\n",
       "      <th>Satisfaction</th>\n",
       "      <th>Seat_comfort</th>\n",
       "      <th>Departure.Arrival.time_convenient</th>\n",
       "      <th>Food_drink</th>\n",
       "      <th>Gate_location</th>\n",
       "      <th>Inflightwifi_service</th>\n",
       "      <th>Inflight_entertainment</th>\n",
       "      <th>Online_support</th>\n",
       "      <th>Ease_of_Onlinebooking</th>\n",
       "      <th>Onboard_service</th>\n",
       "      <th>...</th>\n",
       "      <th>Cleanliness</th>\n",
       "      <th>Online_boarding</th>\n",
       "      <th>Gender</th>\n",
       "      <th>CustomerType</th>\n",
       "      <th>Age</th>\n",
       "      <th>TypeTravel</th>\n",
       "      <th>Class</th>\n",
       "      <th>Flight_Distance</th>\n",
       "      <th>DepartureDelayin_Mins</th>\n",
       "      <th>ArrivalDelayin_Mins</th>\n",
       "    </tr>\n",
       "    <tr>\n",
       "      <th>Id</th>\n",
       "      <th></th>\n",
       "      <th></th>\n",
       "      <th></th>\n",
       "      <th></th>\n",
       "      <th></th>\n",
       "      <th></th>\n",
       "      <th></th>\n",
       "      <th></th>\n",
       "      <th></th>\n",
       "      <th></th>\n",
       "      <th></th>\n",
       "      <th></th>\n",
       "      <th></th>\n",
       "      <th></th>\n",
       "      <th></th>\n",
       "      <th></th>\n",
       "      <th></th>\n",
       "      <th></th>\n",
       "      <th></th>\n",
       "      <th></th>\n",
       "      <th></th>\n",
       "    </tr>\n",
       "  </thead>\n",
       "  <tbody>\n",
       "    <tr>\n",
       "      <td>198671</td>\n",
       "      <td>0</td>\n",
       "      <td>-1.319507</td>\n",
       "      <td>0.065321</td>\n",
       "      <td>0.161954</td>\n",
       "      <td>0.007333</td>\n",
       "      <td>-1.705588</td>\n",
       "      <td>-1.031147</td>\n",
       "      <td>-1.926256</td>\n",
       "      <td>-1.897526</td>\n",
       "      <td>-0.273815</td>\n",
       "      <td>...</td>\n",
       "      <td>-1.487693</td>\n",
       "      <td>-1.810027</td>\n",
       "      <td>1</td>\n",
       "      <td>1</td>\n",
       "      <td>-0.624412</td>\n",
       "      <td>1</td>\n",
       "      <td>2</td>\n",
       "      <td>-0.611263</td>\n",
       "      <td>-0.095337</td>\n",
       "      <td>-0.181104</td>\n",
       "    </tr>\n",
       "    <tr>\n",
       "      <td>193378</td>\n",
       "      <td>1</td>\n",
       "      <td>1.550810</td>\n",
       "      <td>-0.609385</td>\n",
       "      <td>1.592688</td>\n",
       "      <td>0.771921</td>\n",
       "      <td>-0.190560</td>\n",
       "      <td>1.204072</td>\n",
       "      <td>-0.396955</td>\n",
       "      <td>-0.364549</td>\n",
       "      <td>0.506942</td>\n",
       "      <td>...</td>\n",
       "      <td>1.125523</td>\n",
       "      <td>-0.271199</td>\n",
       "      <td>0</td>\n",
       "      <td>0</td>\n",
       "      <td>-1.285363</td>\n",
       "      <td>2</td>\n",
       "      <td>2</td>\n",
       "      <td>-0.528480</td>\n",
       "      <td>-0.224639</td>\n",
       "      <td>-0.386351</td>\n",
       "    </tr>\n",
       "    <tr>\n",
       "      <td>174522</td>\n",
       "      <td>1</td>\n",
       "      <td>0.833231</td>\n",
       "      <td>0.740026</td>\n",
       "      <td>0.877321</td>\n",
       "      <td>0.007333</td>\n",
       "      <td>-0.190560</td>\n",
       "      <td>1.204072</td>\n",
       "      <td>1.132346</td>\n",
       "      <td>-1.131038</td>\n",
       "      <td>-1.054571</td>\n",
       "      <td>...</td>\n",
       "      <td>-1.487693</td>\n",
       "      <td>1.267628</td>\n",
       "      <td>0</td>\n",
       "      <td>2</td>\n",
       "      <td>1.027966</td>\n",
       "      <td>0</td>\n",
       "      <td>0</td>\n",
       "      <td>-0.979407</td>\n",
       "      <td>-0.276360</td>\n",
       "      <td>-0.386351</td>\n",
       "    </tr>\n",
       "    <tr>\n",
       "      <td>191830</td>\n",
       "      <td>1</td>\n",
       "      <td>0.833231</td>\n",
       "      <td>0.740026</td>\n",
       "      <td>0.877321</td>\n",
       "      <td>0.007333</td>\n",
       "      <td>-1.705588</td>\n",
       "      <td>0.458999</td>\n",
       "      <td>-1.926256</td>\n",
       "      <td>-1.897526</td>\n",
       "      <td>-1.835328</td>\n",
       "      <td>...</td>\n",
       "      <td>-0.616621</td>\n",
       "      <td>-1.810027</td>\n",
       "      <td>1</td>\n",
       "      <td>0</td>\n",
       "      <td>-1.020982</td>\n",
       "      <td>1</td>\n",
       "      <td>1</td>\n",
       "      <td>0.301303</td>\n",
       "      <td>-0.379802</td>\n",
       "      <td>-0.386351</td>\n",
       "    </tr>\n",
       "    <tr>\n",
       "      <td>221497</td>\n",
       "      <td>1</td>\n",
       "      <td>0.833231</td>\n",
       "      <td>0.740026</td>\n",
       "      <td>-0.553413</td>\n",
       "      <td>0.771921</td>\n",
       "      <td>0.566954</td>\n",
       "      <td>0.458999</td>\n",
       "      <td>0.367695</td>\n",
       "      <td>0.401939</td>\n",
       "      <td>0.506942</td>\n",
       "      <td>...</td>\n",
       "      <td>0.254451</td>\n",
       "      <td>0.498215</td>\n",
       "      <td>1</td>\n",
       "      <td>1</td>\n",
       "      <td>-0.492221</td>\n",
       "      <td>1</td>\n",
       "      <td>2</td>\n",
       "      <td>1.940417</td>\n",
       "      <td>-0.379802</td>\n",
       "      <td>-0.386351</td>\n",
       "    </tr>\n",
       "  </tbody>\n",
       "</table>\n",
       "<p>5 rows × 23 columns</p>\n",
       "</div>"
      ],
      "text/plain": [
       "        Satisfaction  Seat_comfort  Departure.Arrival.time_convenient  \\\n",
       "Id                                                                      \n",
       "198671             0     -1.319507                           0.065321   \n",
       "193378             1      1.550810                          -0.609385   \n",
       "174522             1      0.833231                           0.740026   \n",
       "191830             1      0.833231                           0.740026   \n",
       "221497             1      0.833231                           0.740026   \n",
       "\n",
       "        Food_drink  Gate_location  Inflightwifi_service  \\\n",
       "Id                                                        \n",
       "198671    0.161954       0.007333             -1.705588   \n",
       "193378    1.592688       0.771921             -0.190560   \n",
       "174522    0.877321       0.007333             -0.190560   \n",
       "191830    0.877321       0.007333             -1.705588   \n",
       "221497   -0.553413       0.771921              0.566954   \n",
       "\n",
       "        Inflight_entertainment  Online_support  Ease_of_Onlinebooking  \\\n",
       "Id                                                                      \n",
       "198671               -1.031147       -1.926256              -1.897526   \n",
       "193378                1.204072       -0.396955              -0.364549   \n",
       "174522                1.204072        1.132346              -1.131038   \n",
       "191830                0.458999       -1.926256              -1.897526   \n",
       "221497                0.458999        0.367695               0.401939   \n",
       "\n",
       "        Onboard_service  ...  Cleanliness  Online_boarding  Gender  \\\n",
       "Id                       ...                                         \n",
       "198671        -0.273815  ...    -1.487693        -1.810027       1   \n",
       "193378         0.506942  ...     1.125523        -0.271199       0   \n",
       "174522        -1.054571  ...    -1.487693         1.267628       0   \n",
       "191830        -1.835328  ...    -0.616621        -1.810027       1   \n",
       "221497         0.506942  ...     0.254451         0.498215       1   \n",
       "\n",
       "        CustomerType       Age  TypeTravel  Class  Flight_Distance  \\\n",
       "Id                                                                   \n",
       "198671             1 -0.624412           1      2        -0.611263   \n",
       "193378             0 -1.285363           2      2        -0.528480   \n",
       "174522             2  1.027966           0      0        -0.979407   \n",
       "191830             0 -1.020982           1      1         0.301303   \n",
       "221497             1 -0.492221           1      2         1.940417   \n",
       "\n",
       "        DepartureDelayin_Mins  ArrivalDelayin_Mins  \n",
       "Id                                                  \n",
       "198671              -0.095337            -0.181104  \n",
       "193378              -0.224639            -0.386351  \n",
       "174522              -0.276360            -0.386351  \n",
       "191830              -0.379802            -0.386351  \n",
       "221497              -0.379802            -0.386351  \n",
       "\n",
       "[5 rows x 23 columns]"
      ]
     },
     "execution_count": 33,
     "metadata": {},
     "output_type": "execute_result"
    }
   ],
   "source": [
    "df_coded.head()"
   ]
  },
  {
   "cell_type": "code",
   "execution_count": 34,
   "metadata": {},
   "outputs": [],
   "source": [
    "df = df_coded"
   ]
  },
  {
   "cell_type": "markdown",
   "metadata": {},
   "source": [
    "### 15. Seperate the column \"Satisfaction\" from the rest of the columns\n",
    "- Create X and y"
   ]
  },
  {
   "cell_type": "code",
   "execution_count": 35,
   "metadata": {},
   "outputs": [
    {
     "data": {
      "text/plain": [
       "['DepartureDelayin_Mins']"
      ]
     },
     "execution_count": 35,
     "metadata": {},
     "output_type": "execute_result"
    }
   ],
   "source": [
    "#We are going to drop highly correlated feature which we have found before as there features might affect our models.\n",
    "to_drop "
   ]
  },
  {
   "cell_type": "code",
   "execution_count": 36,
   "metadata": {},
   "outputs": [],
   "source": [
    "X = df.drop(columns= ['Satisfaction', 'DepartureDelayin_Mins'])  # Seperating the target and the rest\n",
    "#X = df.drop(columns= ['Satisfaction'])\n",
    "y = df.Satisfaction"
   ]
  },
  {
   "cell_type": "markdown",
   "metadata": {},
   "source": [
    "### 16. Create train and test datasets\n",
    "- Use train_test_split"
   ]
  },
  {
   "cell_type": "code",
   "execution_count": 37,
   "metadata": {},
   "outputs": [],
   "source": [
    "from sklearn.model_selection import train_test_split # Splitting the data for training and testing out model\n",
    "\n",
    "X_train, X_test, y_train, y_test = train_test_split(X,y, random_state = 1, stratify = y)"
   ]
  },
  {
   "cell_type": "code",
   "execution_count": 79,
   "metadata": {},
   "outputs": [
    {
     "data": {
      "text/plain": [
       "1    37363\n",
       "0    30824\n",
       "Name: Satisfaction, dtype: int64"
      ]
     },
     "execution_count": 79,
     "metadata": {},
     "output_type": "execute_result"
    }
   ],
   "source": [
    "y_train.value_counts()"
   ]
  },
  {
   "cell_type": "code",
   "execution_count": 80,
   "metadata": {},
   "outputs": [
    {
     "data": {
      "text/plain": [
       "1    12398\n",
       "0    10332\n",
       "Name: Satisfaction, dtype: int64"
      ]
     },
     "execution_count": 80,
     "metadata": {},
     "output_type": "execute_result"
    }
   ],
   "source": [
    "y_test.value_counts()"
   ]
  },
  {
   "cell_type": "code",
   "execution_count": 38,
   "metadata": {},
   "outputs": [
    {
     "data": {
      "text/plain": [
       "Seat_comfort                         float64\n",
       "Departure.Arrival.time_convenient    float64\n",
       "Food_drink                           float64\n",
       "Gate_location                        float64\n",
       "Inflightwifi_service                 float64\n",
       "Inflight_entertainment               float64\n",
       "Online_support                       float64\n",
       "Ease_of_Onlinebooking                float64\n",
       "Onboard_service                      float64\n",
       "Leg_room_service                     float64\n",
       "Baggage_handling                     float64\n",
       "Checkin_service                      float64\n",
       "Cleanliness                          float64\n",
       "Online_boarding                      float64\n",
       "Gender                                 int64\n",
       "CustomerType                           int64\n",
       "Age                                  float64\n",
       "TypeTravel                             int64\n",
       "Class                                  int64\n",
       "Flight_Distance                      float64\n",
       "ArrivalDelayin_Mins                  float64\n",
       "dtype: object"
      ]
     },
     "execution_count": 38,
     "metadata": {},
     "output_type": "execute_result"
    }
   ],
   "source": [
    "X_train.dtypes"
   ]
  },
  {
   "cell_type": "markdown",
   "metadata": {},
   "source": [
    "### 17. Print accuracy\n",
    "- Print accuracy on test data using below models\n",
    "- Logistic regression model trained using all the attributes\n",
    "- Logistic regression model trained using only the feedback columns\n",
    "- Decision tree model trained using all the attributes\n",
    "- Random forest model trained using all the attributes"
   ]
  },
  {
   "cell_type": "markdown",
   "metadata": {},
   "source": [
    "Logistic Regression"
   ]
  },
  {
   "cell_type": "code",
   "execution_count": 39,
   "metadata": {},
   "outputs": [
    {
     "data": {
      "text/plain": [
       "0.8276286845578531"
      ]
     },
     "execution_count": 39,
     "metadata": {},
     "output_type": "execute_result"
    }
   ],
   "source": [
    "#Logistic Regression with only feedback columns\n",
    "from sklearn.linear_model import LogisticRegression #importing logistic regression\n",
    "\n",
    "lr = LogisticRegression()\n",
    "\n",
    "lr.fit(X_train, y_train)\n",
    "\n",
    "pred = lr.predict(X_test)  # Predictions from logistic regression\n",
    "score1 = lr.score(X_test, y_test)\n",
    "score1"
   ]
  },
  {
   "cell_type": "markdown",
   "metadata": {},
   "source": [
    "Predicting customer satisfaction solely based on the feedback"
   ]
  },
  {
   "cell_type": "code",
   "execution_count": 40,
   "metadata": {},
   "outputs": [
    {
     "data": {
      "text/plain": [
       "['Seat_comfort',\n",
       " 'Departure.Arrival.time_convenient',\n",
       " 'Food_drink',\n",
       " 'Gate_location',\n",
       " 'Inflightwifi_service',\n",
       " 'Inflight_entertainment',\n",
       " 'Online_support',\n",
       " 'Ease_of_Onlinebooking',\n",
       " 'Onboard_service',\n",
       " 'Leg_room_service',\n",
       " 'Baggage_handling',\n",
       " 'Checkin_service',\n",
       " 'Cleanliness',\n",
       " 'Online_boarding']"
      ]
     },
     "execution_count": 40,
     "metadata": {},
     "output_type": "execute_result"
    }
   ],
   "source": [
    "feedback"
   ]
  },
  {
   "cell_type": "code",
   "execution_count": 41,
   "metadata": {},
   "outputs": [
    {
     "name": "stdout",
     "output_type": "stream",
     "text": [
      "Number of features used = 14\n",
      "Accuracy in predicting customer satisfaction solely based on the feedback = 0.8047954245490541\n"
     ]
    }
   ],
   "source": [
    "#Logistic Regression with only feedback columns\n",
    "X_train, X_test, y_train, y_test = train_test_split(X.loc[:,feedback], y, random_state = 1, stratify = y)\n",
    "\n",
    "lr = LogisticRegression()\n",
    "\n",
    "lr.fit(X_train, y_train)\n",
    "\n",
    "pred = lr.predict(X_test)\n",
    "\n",
    "score2 = lr.score(X_test, y_test)\n",
    "\n",
    "print(f'Number of features used = {len(X_train.columns)}')\n",
    "print(f'Accuracy in predicting customer satisfaction solely based on the feedback = {score2}')"
   ]
  },
  {
   "cell_type": "markdown",
   "metadata": {},
   "source": [
    "Decision Tree"
   ]
  },
  {
   "cell_type": "code",
   "execution_count": 42,
   "metadata": {},
   "outputs": [
    {
     "name": "stdout",
     "output_type": "stream",
     "text": [
      "Decision tree acccuracy score: 0.9264848218213815\n"
     ]
    }
   ],
   "source": [
    "from sklearn.tree import DecisionTreeClassifier\n",
    "\n",
    "X_train, X_test, y_train, y_test = train_test_split(X, y, random_state = 1)\n",
    "\n",
    "dt = DecisionTreeClassifier()\n",
    "\n",
    "dt.fit(X_train, y_train)\n",
    "\n",
    "score3 = dt.score(X_test, y_test)\n",
    "pred = dt.predict(X_test)\n",
    "\n",
    "print(f\"Decision tree acccuracy score: {score3}\")"
   ]
  },
  {
   "cell_type": "markdown",
   "metadata": {},
   "source": [
    "Random Forest"
   ]
  },
  {
   "cell_type": "code",
   "execution_count": 43,
   "metadata": {},
   "outputs": [
    {
     "name": "stdout",
     "output_type": "stream",
     "text": [
      "Random Forest accuracy score = 0.9423669159700836\n"
     ]
    }
   ],
   "source": [
    "from sklearn.ensemble import RandomForestClassifier\n",
    "\n",
    "rf = RandomForestClassifier()\n",
    "\n",
    "rf.fit(X_train, y_train)\n",
    "\n",
    "score4 = rf.score(X_test, y_test)\n",
    "\n",
    "print(f'Random Forest accuracy score = {score4}')"
   ]
  },
  {
   "cell_type": "markdown",
   "metadata": {},
   "source": [
    "### 18. Print feature importance\n",
    "- Print feature importance of Random Forest\n",
    "\n"
   ]
  },
  {
   "cell_type": "code",
   "execution_count": 44,
   "metadata": {},
   "outputs": [
    {
     "data": {
      "text/plain": [
       "Inflight_entertainment               0.389250\n",
       "Seat_comfort                         0.181604\n",
       "Ease_of_Onlinebooking                0.065835\n",
       "CustomerType                         0.039681\n",
       "Flight_Distance                      0.031394\n",
       "Gate_location                        0.029747\n",
       "TypeTravel                           0.027992\n",
       "Age                                  0.025899\n",
       "Leg_room_service                     0.025750\n",
       "Class                                0.021152\n",
       "Checkin_service                      0.020899\n",
       "Online_support                       0.019344\n",
       "ArrivalDelayin_Mins                  0.019070\n",
       "Baggage_handling                     0.017130\n",
       "Departure.Arrival.time_convenient    0.016557\n",
       "Gender                               0.013104\n",
       "Cleanliness                          0.013100\n",
       "Food_drink                           0.012909\n",
       "Online_boarding                      0.012398\n",
       "Onboard_service                      0.009072\n",
       "Inflightwifi_service                 0.008113\n",
       "dtype: float64"
      ]
     },
     "execution_count": 44,
     "metadata": {},
     "output_type": "execute_result"
    }
   ],
   "source": [
    "#Decision Tree \n",
    "pd.Series(dt.feature_importances_, X_train.columns ).sort_values(ascending= False)"
   ]
  },
  {
   "cell_type": "code",
   "execution_count": 45,
   "metadata": {
    "scrolled": true
   },
   "outputs": [
    {
     "data": {
      "text/plain": [
       "Inflight_entertainment               0.204260\n",
       "Seat_comfort                         0.134605\n",
       "Ease_of_Onlinebooking                0.075198\n",
       "Online_support                       0.057964\n",
       "Baggage_handling                     0.043936\n",
       "Online_boarding                      0.039565\n",
       "Class                                0.038228\n",
       "CustomerType                         0.038106\n",
       "Flight_Distance                      0.035072\n",
       "Checkin_service                      0.033636\n",
       "TypeTravel                           0.032906\n",
       "Leg_room_service                     0.031561\n",
       "Age                                  0.031528\n",
       "Food_drink                           0.030512\n",
       "Onboard_service                      0.030238\n",
       "Gender                               0.028956\n",
       "Cleanliness                          0.027655\n",
       "Gate_location                        0.023387\n",
       "Departure.Arrival.time_convenient    0.022929\n",
       "ArrivalDelayin_Mins                  0.020151\n",
       "Inflightwifi_service                 0.019606\n",
       "dtype: float64"
      ]
     },
     "execution_count": 45,
     "metadata": {},
     "output_type": "execute_result"
    }
   ],
   "source": [
    "#RandomForest\n",
    "pd.Series(rf.feature_importances_, X_train.columns).sort_values(ascending= False)\n",
    "## Alternate Way\n",
    "##pd.DataFrame({'Attribute': X_train.columns, 'Importance': rf.feature_importances_}) "
   ]
  },
  {
   "cell_type": "markdown",
   "metadata": {},
   "source": [
    "# Model Tuning"
   ]
  },
  {
   "cell_type": "markdown",
   "metadata": {},
   "source": [
    "### 19. Print cross validation score\n",
    "- Decision tree model trained using all the attributes\n",
    "- Random Forest model trained using all the attributes\n",
    "- Fine tuned (using Grid Search or Random Search) Random Forest model\n",
    "\n",
    "**Display all the scores above with their respective models in a single dataframe**\n",
    "\n"
   ]
  },
  {
   "cell_type": "markdown",
   "metadata": {},
   "source": [
    "Cross Validation Score"
   ]
  },
  {
   "cell_type": "code",
   "execution_count": 46,
   "metadata": {},
   "outputs": [
    {
     "name": "stdout",
     "output_type": "stream",
     "text": [
      "Cross validation score of Decision tree = 0.9308269580642514\n"
     ]
    }
   ],
   "source": [
    "from sklearn.model_selection import cross_val_score\n",
    "#For Decision Tree dt\n",
    "score5 = cross_val_score(dt, X, y, cv = 10).mean()\n",
    "print(f'Cross validation score of Decision tree = {score5}')"
   ]
  },
  {
   "cell_type": "code",
   "execution_count": 47,
   "metadata": {},
   "outputs": [
    {
     "name": "stdout",
     "output_type": "stream",
     "text": [
      "Cross validation score of Random forest = 0.9460716550764847\n"
     ]
    }
   ],
   "source": [
    "#Random Forest rf\n",
    "score6 = cross_val_score(rf, X, y, cv = 10).mean()\n",
    "print(f'Cross validation score of Random forest = {score6}')"
   ]
  },
  {
   "cell_type": "markdown",
   "metadata": {},
   "source": [
    "Parameter Tuning Using GridDSearch\n",
    "\n",
    "Doing it only for RandomForest as the mean CV score is better."
   ]
  },
  {
   "cell_type": "code",
   "execution_count": null,
   "metadata": {},
   "outputs": [],
   "source": [
    "from sklearn.model_selection import GridSearchCV\n",
    "\n",
    "parameters = {'bootstrap': [True],\n",
    " 'max_depth': [10, 20, 30, 40, 50],\n",
    " 'max_features': ['auto', 'sqrt'],\n",
    " 'min_samples_leaf': [1, 2, 4, 8],\n",
    " 'n_estimators': [100]}\n",
    "\n",
    "\n",
    "clf = GridSearchCV(RandomForestClassifier(), parameters, cv = 5, verbose = 2, n_jobs= 4)\n",
    "clf.fit(X, y)\n",
    "\n",
    "clf.best_params_\n",
    "\n",
    "\n",
    "# Best parameters\n",
    "#{'bootstrap': True,\n",
    "# 'max_depth': 30,\n",
    "# 'max_features': 'sqrt',\n",
    "# 'min_samples_leaf': 1,\n",
    "#  'n_estimators': 100} \n"
   ]
  },
  {
   "cell_type": "code",
   "execution_count": 48,
   "metadata": {},
   "outputs": [
    {
     "data": {
      "text/plain": [
       "0.9506358467971981"
      ]
     },
     "execution_count": 48,
     "metadata": {},
     "output_type": "execute_result"
    }
   ],
   "source": [
    "rf = RandomForestClassifier(bootstrap= True,\n",
    " max_depth= 30,\n",
    " max_features= 'sqrt',\n",
    " min_samples_leaf= 1,\n",
    " n_estimators= 100)\n",
    "\n",
    "rf.fit(X_train, y_train)\n",
    "\n",
    "score7 = cross_val_score(rf, X_train, y_train, cv = 5).mean()\n",
    "\n",
    "\n",
    "score7\n",
    "    "
   ]
  },
  {
   "cell_type": "code",
   "execution_count": 49,
   "metadata": {},
   "outputs": [],
   "source": [
    "data = {'Technique' : ['Logistic Regression', \"LR with only feedback columns \", 'Decision tree',\n",
    "                       'Random forest', 'DT CV','RF CV','Tuned RF CV'],\n",
    "       'Score' : [score1, score2, score3, score4, score5, score6, score7] }\n",
    "\n",
    "result = pd.DataFrame(data)"
   ]
  },
  {
   "cell_type": "code",
   "execution_count": 50,
   "metadata": {},
   "outputs": [
    {
     "data": {
      "text/html": [
       "<div>\n",
       "<style scoped>\n",
       "    .dataframe tbody tr th:only-of-type {\n",
       "        vertical-align: middle;\n",
       "    }\n",
       "\n",
       "    .dataframe tbody tr th {\n",
       "        vertical-align: top;\n",
       "    }\n",
       "\n",
       "    .dataframe thead th {\n",
       "        text-align: right;\n",
       "    }\n",
       "</style>\n",
       "<table border=\"1\" class=\"dataframe\">\n",
       "  <thead>\n",
       "    <tr style=\"text-align: right;\">\n",
       "      <th></th>\n",
       "      <th>Technique</th>\n",
       "      <th>Score</th>\n",
       "    </tr>\n",
       "  </thead>\n",
       "  <tbody>\n",
       "    <tr>\n",
       "      <td>0</td>\n",
       "      <td>Logistic Regression</td>\n",
       "      <td>0.827629</td>\n",
       "    </tr>\n",
       "    <tr>\n",
       "      <td>1</td>\n",
       "      <td>LR with only feedback columns</td>\n",
       "      <td>0.804795</td>\n",
       "    </tr>\n",
       "    <tr>\n",
       "      <td>2</td>\n",
       "      <td>Decision tree</td>\n",
       "      <td>0.926485</td>\n",
       "    </tr>\n",
       "    <tr>\n",
       "      <td>3</td>\n",
       "      <td>Random forest</td>\n",
       "      <td>0.942367</td>\n",
       "    </tr>\n",
       "    <tr>\n",
       "      <td>4</td>\n",
       "      <td>DT CV</td>\n",
       "      <td>0.930827</td>\n",
       "    </tr>\n",
       "    <tr>\n",
       "      <td>5</td>\n",
       "      <td>RF CV</td>\n",
       "      <td>0.946072</td>\n",
       "    </tr>\n",
       "    <tr>\n",
       "      <td>6</td>\n",
       "      <td>Tuned RF CV</td>\n",
       "      <td>0.950636</td>\n",
       "    </tr>\n",
       "  </tbody>\n",
       "</table>\n",
       "</div>"
      ],
      "text/plain": [
       "                        Technique     Score\n",
       "0             Logistic Regression  0.827629\n",
       "1  LR with only feedback columns   0.804795\n",
       "2                   Decision tree  0.926485\n",
       "3                   Random forest  0.942367\n",
       "4                           DT CV  0.930827\n",
       "5                           RF CV  0.946072\n",
       "6                     Tuned RF CV  0.950636"
      ]
     },
     "execution_count": 50,
     "metadata": {},
     "output_type": "execute_result"
    }
   ],
   "source": [
    "result"
   ]
  },
  {
   "cell_type": "code",
   "execution_count": 81,
   "metadata": {},
   "outputs": [
    {
     "data": {
      "text/plain": [
       "(68187, 21)"
      ]
     },
     "execution_count": 81,
     "metadata": {},
     "output_type": "execute_result"
    }
   ],
   "source": [
    "X_train.shape"
   ]
  },
  {
   "cell_type": "markdown",
   "metadata": {},
   "source": [
    "# Dimensionality Reduction"
   ]
  },
  {
   "cell_type": "markdown",
   "metadata": {},
   "source": [
    "### 20. Perform the following tasks\n",
    "\n",
    "- Use PCA to reduce the number of dimensions such that the components capture 95% of the data\n",
    "- Train Logistic Regression, Decision Tree and Random Forest using the principle components\n",
    "- Calculate the accuracy scores for each of the models\n",
    "- Calculate the cross validation scores for each of the above models trained using principle components"
   ]
  },
  {
   "cell_type": "code",
   "execution_count": 51,
   "metadata": {},
   "outputs": [],
   "source": [
    "# We need to scale the data before using PCA which we have already done before\n"
   ]
  },
  {
   "cell_type": "code",
   "execution_count": 52,
   "metadata": {},
   "outputs": [
    {
     "data": {
      "text/plain": [
       "PCA(copy=True, iterated_power='auto', n_components=10, random_state=None,\n",
       "    svd_solver='auto', tol=0.0, whiten=False)"
      ]
     },
     "execution_count": 52,
     "metadata": {},
     "output_type": "execute_result"
    }
   ],
   "source": [
    "from sklearn.decomposition import PCA\n",
    "pca = PCA(10)# Initialize PCA object\n",
    "#pca = PCA(.95)\n",
    "pca.fit(X_train)  # Fit the PCA object with the train data"
   ]
  },
  {
   "cell_type": "code",
   "execution_count": 53,
   "metadata": {},
   "outputs": [
    {
     "data": {
      "text/plain": [
       "((68187, 10), (22730, 10))"
      ]
     },
     "execution_count": 53,
     "metadata": {},
     "output_type": "execute_result"
    }
   ],
   "source": [
    "X_train_pca = pca.transform(X_train)  # PCs for the train data\n",
    "X_test_pca = pca.transform(X_test)    # PCs for the test data\n",
    "\n",
    "X_train_pca.shape, X_test_pca.shape"
   ]
  },
  {
   "cell_type": "code",
   "execution_count": 82,
   "metadata": {},
   "outputs": [
    {
     "data": {
      "text/plain": [
       "array([3.89741649, 2.45443514, 2.10683007, 1.30425851, 1.04462374,\n",
       "       0.99329048, 0.89384752, 0.78441823, 0.63924023, 0.54545331])"
      ]
     },
     "execution_count": 82,
     "metadata": {},
     "output_type": "execute_result"
    }
   ],
   "source": [
    "pca.explained_variance_"
   ]
  },
  {
   "cell_type": "code",
   "execution_count": 55,
   "metadata": {},
   "outputs": [],
   "source": [
    "lr = LogisticRegression()\n",
    "lr.fit(X_train_pca, y_train)\n",
    "score9 = lr.score(X_test_pca, y_test)\n",
    "\n",
    "\n",
    "dt = DecisionTreeClassifier()\n",
    "dt.fit(X_train_pca, y_train)\n",
    "score10 = dt.score(X_test_pca, y_test)\n",
    "\n",
    "rf = RandomForestClassifier(bootstrap = True, max_depth = 30, max_features ='auto', min_samples_leaf = 1, n_estimators = 100)\n",
    "rf.fit(X_train_pca, y_train)\n",
    "score11 = rf.score(X_test_pca, y_test)"
   ]
  },
  {
   "cell_type": "code",
   "execution_count": 56,
   "metadata": {},
   "outputs": [
    {
     "data": {
      "text/plain": [
       "0.8836779586449626"
      ]
     },
     "execution_count": 56,
     "metadata": {},
     "output_type": "execute_result"
    }
   ],
   "source": [
    "score11"
   ]
  },
  {
   "cell_type": "code",
   "execution_count": 57,
   "metadata": {},
   "outputs": [],
   "source": [
    "lr = LogisticRegression()\n",
    "score12 = cross_val_score(lr,X_train_pca, y_train , cv = 5).mean()\n",
    "\n",
    "dt = DecisionTreeClassifier()\n",
    "score13 = cross_val_score(dt, X_train_pca, y_train, cv = 5).mean()\n",
    "\n",
    "rf = RandomForestClassifier(bootstrap = True, max_depth = 10, max_features ='sqrt', min_samples_leaf = 1, n_estimators = 100)\n",
    "score14 = cross_val_score(rf, X_train_pca, y_train, cv = 5).mean()"
   ]
  },
  {
   "cell_type": "code",
   "execution_count": 58,
   "metadata": {},
   "outputs": [
    {
     "data": {
      "text/html": [
       "<div>\n",
       "<style scoped>\n",
       "    .dataframe tbody tr th:only-of-type {\n",
       "        vertical-align: middle;\n",
       "    }\n",
       "\n",
       "    .dataframe tbody tr th {\n",
       "        vertical-align: top;\n",
       "    }\n",
       "\n",
       "    .dataframe thead th {\n",
       "        text-align: right;\n",
       "    }\n",
       "</style>\n",
       "<table border=\"1\" class=\"dataframe\">\n",
       "  <thead>\n",
       "    <tr style=\"text-align: right;\">\n",
       "      <th></th>\n",
       "      <th>Algorithm</th>\n",
       "      <th>Accuracy_score</th>\n",
       "      <th>Cross_val_score</th>\n",
       "    </tr>\n",
       "  </thead>\n",
       "  <tbody>\n",
       "    <tr>\n",
       "      <td>0</td>\n",
       "      <td>Logistic Regression</td>\n",
       "      <td>0.801452</td>\n",
       "      <td>0.802616</td>\n",
       "    </tr>\n",
       "    <tr>\n",
       "      <td>1</td>\n",
       "      <td>Deision Tree</td>\n",
       "      <td>0.818742</td>\n",
       "      <td>0.820611</td>\n",
       "    </tr>\n",
       "    <tr>\n",
       "      <td>2</td>\n",
       "      <td>Random Forest</td>\n",
       "      <td>0.883678</td>\n",
       "      <td>0.864637</td>\n",
       "    </tr>\n",
       "  </tbody>\n",
       "</table>\n",
       "</div>"
      ],
      "text/plain": [
       "             Algorithm  Accuracy_score  Cross_val_score\n",
       "0  Logistic Regression        0.801452         0.802616\n",
       "1         Deision Tree        0.818742         0.820611\n",
       "2        Random Forest        0.883678         0.864637"
      ]
     },
     "execution_count": 58,
     "metadata": {},
     "output_type": "execute_result"
    }
   ],
   "source": [
    "result = pd.DataFrame({'Algorithm' : ['Logistic Regression', 'Deision Tree', 'Random Forest'],\n",
    "                      'Accuracy_score': [score9, score10, score11],\n",
    "                      'Cross_val_score' : [score12, score13, score14]})\n",
    "result"
   ]
  },
  {
   "cell_type": "markdown",
   "metadata": {},
   "source": [
    "# Pipeline - Automate and Simplyfy the process"
   ]
  },
  {
   "cell_type": "code",
   "execution_count": 72,
   "metadata": {},
   "outputs": [],
   "source": [
    "import pandas as pd\n",
    "import numpy as np\n",
    "\n",
    "from sklearn.compose import ColumnTransformer\n",
    "from sklearn.pipeline import Pipeline\n",
    "from sklearn.impute import SimpleImputer\n",
    "from sklearn.preprocessing import StandardScaler,LabelEncoder, OneHotEncoder\n",
    "from sklearn.linear_model import LogisticRegression\n",
    "from sklearn.model_selection import train_test_split, GridSearchCV\n",
    "from category_encoders import OrdinalEncoder\n",
    "\n",
    "\n",
    "\n",
    "numeric_features = ['Age', 'Flight_Distance', 'DepartureDelayin_Mins'\n",
    "       ]\n",
    "\n",
    "feedback_features = ['Seat_comfort', 'Departure.Arrival.time_convenient', 'Food_drink',\n",
    "       'Gate_location', 'Inflightwifi_service', 'Inflight_entertainment',\n",
    "       'Online_support', 'Ease_of_Onlinebooking', 'Onboard_service',\n",
    "       'Leg_room_service', 'Baggage_handling', 'Checkin_service',\n",
    "       'Cleanliness', 'Online_boarding']\n",
    "\n",
    "other_cat_cols =  ['Gender', 'CustomerType', 'TypeTravel', 'Class']\n",
    "\n",
    "\n",
    "#TRANSFORMERS\n",
    "\n",
    "\n",
    "\n",
    "numeric_transformer = Pipeline(steps=[\n",
    "    ('imputer', SimpleImputer(strategy='mean')),\n",
    "    ('scaler', StandardScaler())])\n",
    "\n",
    "\n",
    "feedback_feature_transformer = Pipeline(steps=[\n",
    "    ('imputer', SimpleImputer(strategy='constant', fill_value='not_captured')),\n",
    "    ('label_encoder', OrdinalEncoder()),\n",
    "    ('scaler', StandardScaler())])\n",
    "\n",
    "\n",
    "other_cat_transformer = Pipeline(steps=[\n",
    "    ('imputer', SimpleImputer(strategy='constant', fill_value='not_captured')),\n",
    "    ('onehot', OneHotEncoder(handle_unknown='ignore'))])\n",
    "\n",
    "\n",
    "preprocessor = ColumnTransformer(\n",
    "    transformers=[\n",
    "        ('num', numeric_transformer, numeric_features),\n",
    "        ('feed_col', feedback_feature_transformer, feedback_features),\n",
    "        ('other_cat_col', other_cat_transformer, other_cat_cols )\n",
    "    ])"
   ]
  },
  {
   "cell_type": "code",
   "execution_count": 73,
   "metadata": {},
   "outputs": [],
   "source": [
    "#Adding into Pipeline\n",
    "clf = Pipeline(steps=[('preprocessor', preprocessor),\n",
    "                      ('classifier', RandomForestClassifier(bootstrap= True,max_depth= 30,max_features= 'auto',min_samples_leaf= 1,n_estimators= 100))])"
   ]
  },
  {
   "cell_type": "code",
   "execution_count": 74,
   "metadata": {},
   "outputs": [],
   "source": [
    "#Taking the raw data\n",
    "data = df2.set_index(\"Id\").join(df1.set_index(\"ID\"))\n"
   ]
  },
  {
   "cell_type": "code",
   "execution_count": 75,
   "metadata": {},
   "outputs": [],
   "source": [
    "#Getting X and y\n",
    "X1 = data.drop(['Satisfaction', 'ArrivalDelayin_Mins'], axis = 1)\n",
    "y1 = pd.get_dummies(data['Satisfaction'])"
   ]
  },
  {
   "cell_type": "code",
   "execution_count": 76,
   "metadata": {},
   "outputs": [],
   "source": [
    "#Data SPlit\n",
    "X_trains, X_tests, y_trains, y_tests = train_test_split(X1,y1, random_state = 1, stratify = y)"
   ]
  },
  {
   "cell_type": "code",
   "execution_count": 77,
   "metadata": {},
   "outputs": [
    {
     "data": {
      "text/plain": [
       "Pipeline(memory=None,\n",
       "         steps=[('preprocessor',\n",
       "                 ColumnTransformer(n_jobs=None, remainder='drop',\n",
       "                                   sparse_threshold=0.3,\n",
       "                                   transformer_weights=None,\n",
       "                                   transformers=[('num',\n",
       "                                                  Pipeline(memory=None,\n",
       "                                                           steps=[('imputer',\n",
       "                                                                   SimpleImputer(add_indicator=False,\n",
       "                                                                                 copy=True,\n",
       "                                                                                 fill_value=None,\n",
       "                                                                                 missing_values=nan,\n",
       "                                                                                 strategy='mean',\n",
       "                                                                                 verbose=0)),\n",
       "                                                                  ('scaler',\n",
       "                                                                   StandardScaler(copy=True,\n",
       "                                                                                  with_mean=T...\n",
       "                 RandomForestClassifier(bootstrap=True, class_weight=None,\n",
       "                                        criterion='gini', max_depth=30,\n",
       "                                        max_features='auto',\n",
       "                                        max_leaf_nodes=None,\n",
       "                                        min_impurity_decrease=0.0,\n",
       "                                        min_impurity_split=None,\n",
       "                                        min_samples_leaf=1, min_samples_split=2,\n",
       "                                        min_weight_fraction_leaf=0.0,\n",
       "                                        n_estimators=100, n_jobs=None,\n",
       "                                        oob_score=False, random_state=None,\n",
       "                                        verbose=0, warm_start=False))],\n",
       "         verbose=False)"
      ]
     },
     "execution_count": 77,
     "metadata": {},
     "output_type": "execute_result"
    }
   ],
   "source": [
    "#Fitting Pipeline \n",
    "clf.fit(X_trains, y_trains)"
   ]
  },
  {
   "cell_type": "code",
   "execution_count": 78,
   "metadata": {},
   "outputs": [
    {
     "data": {
      "text/plain": [
       "0.9508139023317201"
      ]
     },
     "execution_count": 78,
     "metadata": {},
     "output_type": "execute_result"
    }
   ],
   "source": [
    "#Getting score \n",
    "clf.score(X_tests, y_tests)"
   ]
  },
  {
   "cell_type": "markdown",
   "metadata": {},
   "source": [
    "# Conclusion:\n",
    "\n",
    "- Given some data, we have seen how to perform EDA for that dataset\n",
    "- The data that we had was not entirely continuous or categorical. Hence we improvised the analysis to draw insights\n",
    "- We used the same old bar-charts but the way we interpreted is unique to this problem\n",
    "- Beyond EDA, we have seen how to preprocess data and train Supervised Models with it\n",
    "- We finally put all the steps in one place and built a pipeline using the Sklearn's Pipeline function\n",
    "\n",
    "# Explore:\n",
    "\n",
    "- You can cluster different segments of customer to get more insights about their behaviours.\n",
    "- Create new features and select the best features to improve your model further.\n",
    "\n",
    "and more ----"
   ]
  }
 ],
 "metadata": {
  "kernelspec": {
   "display_name": "Python 3",
   "language": "python",
   "name": "python3"
  },
  "language_info": {
   "codemirror_mode": {
    "name": "ipython",
    "version": 3
   },
   "file_extension": ".py",
   "mimetype": "text/x-python",
   "name": "python",
   "nbconvert_exporter": "python",
   "pygments_lexer": "ipython3",
   "version": "3.7.1"
  }
 },
 "nbformat": 4,
 "nbformat_minor": 2
}
